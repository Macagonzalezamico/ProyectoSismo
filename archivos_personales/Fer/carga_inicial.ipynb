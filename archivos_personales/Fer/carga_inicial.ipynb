{
 "cells": [
  {
   "attachments": {},
   "cell_type": "markdown",
   "metadata": {},
   "source": [
    "Hago cargas iniciales con el dispatcher"
   ]
  },
  {
   "cell_type": "code",
   "execution_count": 2,
   "metadata": {},
   "outputs": [],
   "source": [
    "# Imports\n",
    "import sys\n",
    "sys.path.append('../../code/etl/')\n",
    "from DataLoadDispatcher_class import DataLoadDispatcher\n",
    "from InfoExtractorChileURL_class import InfoExtractorChileURL\n",
    "from InfoFormatterChile_class import InfoFormatterChile\n",
    "from InfoExtractorUSA_class import InfoExtractorUSA\n",
    "from InfoFormatterUSA_class import InfoFormatterUSA\n",
    "from InfoExtractorJaponURL_ClassD import InfoExtractorJaponURL\n",
    "from InfoFormatterJapon_ClassD import InfoFormatterJapon\n",
    "import datetime as dt\n",
    "import logging"
   ]
  },
  {
   "cell_type": "code",
   "execution_count": 3,
   "metadata": {},
   "outputs": [],
   "source": [
    "ieUSA = InfoExtractorUSA()\n",
    "ifUSA = InfoFormatterUSA()\n",
    "ieChile = InfoExtractorChileURL()\n",
    "ifChile = InfoFormatterChile()\n",
    "ieJapon = InfoExtractorJaponURL()\n",
    "ifJapon = InfoFormatterJapon()"
   ]
  },
  {
   "cell_type": "code",
   "execution_count": 4,
   "metadata": {},
   "outputs": [],
   "source": [
    "d = DataLoadDispatcher(extractor_CL_dataset=None, extractor_CL_url=ieChile, extractor_JP_url=ieJapon, extractor_USA_api=ieUSA, extractor_Damage_url=None, formatter_CL=ifChile, formatter_JP=ifJapon, formatter_USA=ifUSA, formatter_Damage=None)"
   ]
  },
  {
   "cell_type": "code",
   "execution_count": 5,
   "metadata": {},
   "outputs": [],
   "source": [
    "# Seteo el logging\n",
    "logging.basicConfig(filename=\"logETL.txt\", level=logging.INFO) # Este es el nivel usual de debugging\n",
    "\n",
    "# Logeo la fecha de procesamiento\n",
    "logging.info('.')\n",
    "logging.info('----------------------------------------------')\n",
    "logging.info('Proceso iniciado el ' + str(dt.datetime.now()))"
   ]
  },
  {
   "cell_type": "code",
   "execution_count": 6,
   "metadata": {},
   "outputs": [],
   "source": [
    "# Carga inicial de Japon desde el 1/1/2000 al 1/1/2001\n",
    "#d.startLoadingPeriod(country='JP', sinceDateTime=dt.datetime(1999,12,31), upToDateTime=dt.datetime(2001,1,1))"
   ]
  },
  {
   "cell_type": "code",
   "execution_count": 7,
   "metadata": {},
   "outputs": [],
   "source": [
    "# Carga inicial de Japon desde el 28/11/2018 al 31/12/2018\n",
    "#d.startLoadingPeriod(country='JP', sinceDateTime=dt.datetime(2018,11,27), upToDateTime=dt.datetime(2018,12,31))"
   ]
  },
  {
   "cell_type": "code",
   "execution_count": 8,
   "metadata": {},
   "outputs": [],
   "source": [
    "# Carga inicial de Japon desde el 8/10/2021 al 30/5/2023\n",
    "#d.startLoadingPeriod(country='JP', sinceDateTime=dt.datetime(2021,10,7), upToDateTime=dt.datetime(2023,5,30))\n",
    "#d.startLoadingPeriod(country='JP', sinceDateTime=dt.datetime(2022,10,15), upToDateTime=dt.datetime(2023,5,30))"
   ]
  },
  {
   "cell_type": "code",
   "execution_count": 9,
   "metadata": {},
   "outputs": [],
   "source": [
    "# Carga inicial de Chile desde el (Ya está todo cargado)\n",
    "#d.startLoadingPeriod(country='CL', sinceDateTime=dt.datetime(2022,10,15), upToDateTime=dt.datetime(2023,5,30))"
   ]
  },
  {
   "cell_type": "code",
   "execution_count": 10,
   "metadata": {},
   "outputs": [],
   "source": [
    "# Carga inicial de USA desde el 1/1/2022 al 30/12/2022\n",
    "#d.startLoadingPeriod(country='US', sinceDateTime=dt.datetime(2022,6,29), upToDateTime=dt.datetime(2022,12,30))"
   ]
  },
  {
   "cell_type": "code",
   "execution_count": 13,
   "metadata": {},
   "outputs": [],
   "source": [
    "# Carga inicial de USA desde el 1/1/2020 al 31/12/2020\n",
    "#d.startLoadingPeriod(country='US', sinceDateTime=dt.datetime(2020,8,27), upToDateTime=dt.datetime(2020,12,31))"
   ]
  },
  {
   "cell_type": "code",
   "execution_count": 16,
   "metadata": {},
   "outputs": [],
   "source": [
    "# Carga inicial de USA desde el 1/1/2019 al 31/12/2019\n",
    "d.startLoadingPeriod(country='US', sinceDateTime=dt.datetime(2019,7,1), upToDateTime=dt.datetime(2019,12,30))"
   ]
  }
 ],
 "metadata": {
  "kernelspec": {
   "display_name": "Python 3",
   "language": "python",
   "name": "python3"
  },
  "language_info": {
   "codemirror_mode": {
    "name": "ipython",
    "version": 3
   },
   "file_extension": ".py",
   "mimetype": "text/x-python",
   "name": "python",
   "nbconvert_exporter": "python",
   "pygments_lexer": "ipython3",
   "version": "3.9.6"
  },
  "orig_nbformat": 4
 },
 "nbformat": 4,
 "nbformat_minor": 2
}
