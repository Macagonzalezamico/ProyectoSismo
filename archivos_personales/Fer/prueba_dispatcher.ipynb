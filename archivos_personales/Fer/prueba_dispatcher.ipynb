{
 "cells": [
  {
   "attachments": {},
   "cell_type": "markdown",
   "metadata": {},
   "source": [
    "Hago pruebas relacionadas con el dispatcher"
   ]
  },
  {
   "cell_type": "code",
   "execution_count": 1,
   "metadata": {},
   "outputs": [],
   "source": [
    "# Imports\n",
    "import sys\n",
    "sys.path.append('../../code/etl/')\n",
    "from DataLoadDispatcher_class import DataLoadDispatcher\n",
    "from InfoExtractorChileURL_class import InfoExtractorChileURL\n",
    "from InfoExtractorUSA_class import InfoExtractorUSA\n",
    "from InfoFormatterChile_class import InfoFormatterChile\n",
    "import datetime as dt"
   ]
  },
  {
   "cell_type": "code",
   "execution_count": 2,
   "metadata": {},
   "outputs": [],
   "source": [
    "ieUSA = InfoExtractorUSA()\n",
    "ieChile = InfoExtractorChileURL()"
   ]
  },
  {
   "cell_type": "code",
   "execution_count": 3,
   "metadata": {},
   "outputs": [],
   "source": [
    "ifChile = InfoFormatterChile()"
   ]
  },
  {
   "cell_type": "code",
   "execution_count": 4,
   "metadata": {},
   "outputs": [],
   "source": [
    "d = DataLoadDispatcher(extractor_CL_dataset=None, extractor_CL_url=ieChile, extractor_JP_url=None, extractor_USA_api=ieUSA, extractor_Damage_url=None, formatter_CL=ifChile, formatter_JP=None, formatter_USA=None, formatter_Damage=None)"
   ]
  },
  {
   "cell_type": "code",
   "execution_count": 5,
   "metadata": {},
   "outputs": [
    {
     "name": "stdout",
     "output_type": "stream",
     "text": [
      "('urlChile', datetime.datetime(2000, 1, 1, 0, 0), datetime.datetime(9999, 12, 31, 23, 59, 59), 30)\n",
      "\n",
      "Formateador CL\n",
      "  Fecha del sismo Hora del sismo  Latitud Longitud  Profundidad(Km) Magnitud  \\\n",
      "0      2023-05-15       20:07:12  -25.395  -68.905            124.0     3.7    \n",
      "1      2023-05-15       20:53:39  -20.844  -70.259             40.0     3.8    \n",
      "2      2023-05-15       23:45:52  -32.944  -72.216             33.0     2.9    \n",
      "3      2023-05-15       23:47:49  -32.975  -72.112             24.0     2.5    \n",
      "4      2023-05-16       00:09:58  -21.430  -68.862             91.0     2.5    \n",
      "\n",
      "  Tipo_Magnitud          Lugar del epicentro ID_País  \n",
      "0            Ml  118 km al NE de El Salvador      CL  \n",
      "1            Ml  66 km al S de Alto Hospicio      CL  \n",
      "2            Ml     57 km al O de Valparaíso      CL  \n",
      "3            Ml     47 km al O de Valparaíso      CL  \n",
      "4            Ml        67 km al O de Ollagüe      CL  \n",
      "\n",
      "Formateador CL\n",
      "  Fecha del sismo Hora del sismo  Latitud Longitud  Profundidad(Km) Magnitud  \\\n",
      "0      2023-06-14       20:11:34  -21.148  -68.945            111.0     2.9    \n",
      "1      2023-06-14       20:51:29  -31.452  -71.650             24.0     2.9    \n",
      "2      2023-06-15       02:22:17  -29.868  -70.485             98.0     3.1    \n",
      "3      2023-06-15       04:15:52  -17.712  -69.691            152.0     3.6    \n",
      "4      2023-06-15       04:53:14  -22.564  -68.718            103.0     3.3    \n",
      "\n",
      "  Tipo_Magnitud             Lugar del epicentro ID_País  \n",
      "0            Ml  47 km al SO de Mina Collahuasi      CL  \n",
      "1            Ml       19 km al O de Canela Baja      CL  \n",
      "2            Ml          18 km al N de Paihuano      CL  \n",
      "3            Ml          26 km al SO de Visviri      CL  \n",
      "4            Ml           24 km al SE de Calama      CL  \n",
      "('urlUSA', datetime.datetime(2000, 1, 1, 0, 0), datetime.datetime(2023, 6, 30, 23, 59, 59), 30)\n",
      "('urlJapon', datetime.datetime(2023, 7, 1, 0, 0), datetime.datetime(9999, 12, 31, 23, 59, 59), 30)\n"
     ]
    }
   ],
   "source": [
    "d.startLoadingSince(sinceDateTime=dt.datetime(2023,5,15))"
   ]
  }
 ],
 "metadata": {
  "kernelspec": {
   "display_name": "Python 3",
   "language": "python",
   "name": "python3"
  },
  "language_info": {
   "codemirror_mode": {
    "name": "ipython",
    "version": 3
   },
   "file_extension": ".py",
   "mimetype": "text/x-python",
   "name": "python",
   "nbconvert_exporter": "python",
   "pygments_lexer": "ipython3",
   "version": "3.9.6"
  },
  "orig_nbformat": 4
 },
 "nbformat": 4,
 "nbformat_minor": 2
}
