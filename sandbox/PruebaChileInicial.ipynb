{
 "cells": [
  {
   "cell_type": "code",
   "execution_count": 1,
   "metadata": {},
   "outputs": [],
   "source": [
    "from InfoExtractorChileURL_class import InfoExtractorChileURL\n",
    "\n",
    "from datetime import datetime, timedelta\n",
    "#import InfoExtractor_class as iex\n",
    "import requests\n",
    "import pandas as pd\n",
    "from bs4 import BeautifulSoup"
   ]
  },
  {
   "cell_type": "code",
   "execution_count": 2,
   "metadata": {},
   "outputs": [],
   "source": [
    "asd = InfoExtractorChileURL()"
   ]
  },
  {
   "cell_type": "code",
   "execution_count": 3,
   "metadata": {},
   "outputs": [],
   "source": [
    "from_date = datetime(2000, 1, 1)\n",
    "to_date = datetime(2023, 7, 2)"
   ]
  },
  {
   "cell_type": "code",
   "execution_count": 6,
   "metadata": {},
   "outputs": [],
   "source": [
    "prueba = asd.extractInfo(\"\", \"\", from_date, to_date)"
   ]
  },
  {
   "cell_type": "code",
   "execution_count": 7,
   "metadata": {},
   "outputs": [],
   "source": [
    "from InfoFormatterChile_class import InfoFormatterChile"
   ]
  },
  {
   "cell_type": "code",
   "execution_count": 8,
   "metadata": {},
   "outputs": [],
   "source": [
    "afd = InfoFormatterChile()"
   ]
  },
  {
   "cell_type": "code",
   "execution_count": 9,
   "metadata": {},
   "outputs": [
    {
     "data": {
      "text/plain": [
       "tuple"
      ]
     },
     "execution_count": 9,
     "metadata": {},
     "output_type": "execute_result"
    }
   ],
   "source": [
    "type(prueba)"
   ]
  },
  {
   "cell_type": "code",
   "execution_count": 16,
   "metadata": {},
   "outputs": [
    {
     "data": {
      "text/plain": [
       "('',\n",
       "                                                        1                    2  \\\n",
       " 0                                                   None                 None   \n",
       " 1                                                   None                 None   \n",
       " 2               2000-01-02 16:36:2522 km al S de Petorca  2000-01-02 19:36:25   \n",
       " 3              2000-01-02 15:55:5518 km al NO de Illapel  2000-01-02 18:55:55   \n",
       " 4            2000-01-02 02:03:1316 km al SO de Melipilla  2000-01-02 05:03:13   \n",
       " ...                                                  ...                  ...   \n",
       " 138078       2023-07-01 23:04:0710 km al NO de Andacollo  2023-07-02 03:04:07   \n",
       " 138079         2023-07-01 22:57:4826 km al SO de Ollagüe  2023-07-02 02:57:48   \n",
       " 138080      2023-07-01 22:57:43120 km al O de Valparaíso  2023-07-02 02:57:43   \n",
       " 138081       2023-07-01 22:03:0233 km al SE de Vichuquén  2023-07-02 02:03:02   \n",
       " 138082  2023-07-01 21:12:1754 km al S de Mina Collahuasi  2023-07-02 01:12:17   \n",
       " \n",
       "                       3       4       5  \n",
       " 0                  None    None    None  \n",
       " 1                  None    None    None  \n",
       " 2       -32.446 -70.923   95 km  2.7 Mc  \n",
       " 3       -31.535 -71.318   36 km  3.8 Mc  \n",
       " 4       -33.787 -71.339   46 km  3.7 Mc  \n",
       " ...                 ...     ...     ...  \n",
       " 138078  -30.147 -71.124   75 km  3.0 Ml  \n",
       " 138079  -21.411 -68.406  122 km  2.7 Ml  \n",
       " 138080  -33.098 -72.905   39 km  3.6 Ml  \n",
       " 138081  -35.082 -71.727   55 km  2.8 Ml  \n",
       " 138082  -21.285 -68.829  116 km  2.9 Ml  \n",
       " \n",
       " [138083 rows x 5 columns])"
      ]
     },
     "execution_count": 16,
     "metadata": {},
     "output_type": "execute_result"
    }
   ],
   "source": [
    "prueba"
   ]
  },
  {
   "cell_type": "code",
   "execution_count": 17,
   "metadata": {},
   "outputs": [],
   "source": [
    "prueba2 = afd.formatInfo(\"\",prueba[1])"
   ]
  },
  {
   "cell_type": "code",
   "execution_count": 20,
   "metadata": {},
   "outputs": [
    {
     "data": {
      "text/html": [
       "<div>\n",
       "<style scoped>\n",
       "    .dataframe tbody tr th:only-of-type {\n",
       "        vertical-align: middle;\n",
       "    }\n",
       "\n",
       "    .dataframe tbody tr th {\n",
       "        vertical-align: top;\n",
       "    }\n",
       "\n",
       "    .dataframe thead th {\n",
       "        text-align: right;\n",
       "    }\n",
       "</style>\n",
       "<table border=\"1\" class=\"dataframe\">\n",
       "  <thead>\n",
       "    <tr style=\"text-align: right;\">\n",
       "      <th></th>\n",
       "      <th>Fecha del sismo</th>\n",
       "      <th>Hora del sismo</th>\n",
       "      <th>Latitud</th>\n",
       "      <th>Longitud</th>\n",
       "      <th>Profundidad(Km)</th>\n",
       "      <th>Magnitud</th>\n",
       "      <th>Tipo_Magnitud</th>\n",
       "      <th>Lugar del epicentro</th>\n",
       "      <th>ID_País</th>\n",
       "    </tr>\n",
       "  </thead>\n",
       "  <tbody>\n",
       "    <tr>\n",
       "      <th>0</th>\n",
       "      <td>2000-01-02</td>\n",
       "      <td>00:42:12</td>\n",
       "      <td>-33.410</td>\n",
       "      <td>-70.880</td>\n",
       "      <td>82.0</td>\n",
       "      <td>2.5</td>\n",
       "      <td>Mc</td>\n",
       "      <td>22 km al O de Santiago</td>\n",
       "      <td>CL</td>\n",
       "    </tr>\n",
       "    <tr>\n",
       "      <th>1</th>\n",
       "      <td>2000-01-02</td>\n",
       "      <td>02:03:13</td>\n",
       "      <td>-33.787</td>\n",
       "      <td>-71.339</td>\n",
       "      <td>46.0</td>\n",
       "      <td>3.7</td>\n",
       "      <td>Mc</td>\n",
       "      <td>16 km al SO de Melipilla</td>\n",
       "      <td>CL</td>\n",
       "    </tr>\n",
       "    <tr>\n",
       "      <th>2</th>\n",
       "      <td>2000-01-02</td>\n",
       "      <td>15:55:55</td>\n",
       "      <td>-31.535</td>\n",
       "      <td>-71.318</td>\n",
       "      <td>36.0</td>\n",
       "      <td>3.8</td>\n",
       "      <td>Mc</td>\n",
       "      <td>18 km al NO de Illapel</td>\n",
       "      <td>CL</td>\n",
       "    </tr>\n",
       "    <tr>\n",
       "      <th>3</th>\n",
       "      <td>2000-01-02</td>\n",
       "      <td>16:36:25</td>\n",
       "      <td>-32.446</td>\n",
       "      <td>-70.923</td>\n",
       "      <td>95.0</td>\n",
       "      <td>2.7</td>\n",
       "      <td>Mc</td>\n",
       "      <td>22 km al S de Petorca</td>\n",
       "      <td>CL</td>\n",
       "    </tr>\n",
       "    <tr>\n",
       "      <th>4</th>\n",
       "      <td>2000-01-02</td>\n",
       "      <td>23:41:41</td>\n",
       "      <td>-32.986</td>\n",
       "      <td>-71.348</td>\n",
       "      <td>42.0</td>\n",
       "      <td>3.6</td>\n",
       "      <td>Mc</td>\n",
       "      <td>15 km al SO de Quillota</td>\n",
       "      <td>CL</td>\n",
       "    </tr>\n",
       "    <tr>\n",
       "      <th>...</th>\n",
       "      <td>...</td>\n",
       "      <td>...</td>\n",
       "      <td>...</td>\n",
       "      <td>...</td>\n",
       "      <td>...</td>\n",
       "      <td>...</td>\n",
       "      <td>...</td>\n",
       "      <td>...</td>\n",
       "      <td>...</td>\n",
       "    </tr>\n",
       "    <tr>\n",
       "      <th>129494</th>\n",
       "      <td>2023-07-02</td>\n",
       "      <td>17:20:04</td>\n",
       "      <td>-24.145</td>\n",
       "      <td>-67.504</td>\n",
       "      <td>215.0</td>\n",
       "      <td>3.0</td>\n",
       "      <td>Ml</td>\n",
       "      <td>73 km al SE de Socaire</td>\n",
       "      <td>CL</td>\n",
       "    </tr>\n",
       "    <tr>\n",
       "      <th>129495</th>\n",
       "      <td>2023-07-02</td>\n",
       "      <td>17:41:00</td>\n",
       "      <td>-41.786</td>\n",
       "      <td>-73.880</td>\n",
       "      <td>34.0</td>\n",
       "      <td>3.4</td>\n",
       "      <td>Ml</td>\n",
       "      <td>10 km al NO de Ancud</td>\n",
       "      <td>CL</td>\n",
       "    </tr>\n",
       "    <tr>\n",
       "      <th>129496</th>\n",
       "      <td>2023-07-02</td>\n",
       "      <td>18:24:14</td>\n",
       "      <td>-21.647</td>\n",
       "      <td>-68.499</td>\n",
       "      <td>123.0</td>\n",
       "      <td>3.6</td>\n",
       "      <td>Ml</td>\n",
       "      <td>53 km al SO de Ollagüe</td>\n",
       "      <td>CL</td>\n",
       "    </tr>\n",
       "    <tr>\n",
       "      <th>129497</th>\n",
       "      <td>2023-07-02</td>\n",
       "      <td>18:41:44</td>\n",
       "      <td>-23.136</td>\n",
       "      <td>-67.349</td>\n",
       "      <td>251.0</td>\n",
       "      <td>3.0</td>\n",
       "      <td>Ml</td>\n",
       "      <td>75 km al NE de Socaire</td>\n",
       "      <td>CL</td>\n",
       "    </tr>\n",
       "    <tr>\n",
       "      <th>129498</th>\n",
       "      <td>2023-07-02</td>\n",
       "      <td>19:17:13</td>\n",
       "      <td>-18.062</td>\n",
       "      <td>-69.578</td>\n",
       "      <td>141.0</td>\n",
       "      <td>3.8</td>\n",
       "      <td>Ml</td>\n",
       "      <td>15 km al N de Putre</td>\n",
       "      <td>CL</td>\n",
       "    </tr>\n",
       "  </tbody>\n",
       "</table>\n",
       "<p>129499 rows × 9 columns</p>\n",
       "</div>"
      ],
      "text/plain": [
       "       Fecha del sismo Hora del sismo  Latitud Longitud  Profundidad(Km)  \\\n",
       "0           2000-01-02       00:42:12  -33.410  -70.880             82.0   \n",
       "1           2000-01-02       02:03:13  -33.787  -71.339             46.0   \n",
       "2           2000-01-02       15:55:55  -31.535  -71.318             36.0   \n",
       "3           2000-01-02       16:36:25  -32.446  -70.923             95.0   \n",
       "4           2000-01-02       23:41:41  -32.986  -71.348             42.0   \n",
       "...                ...            ...      ...      ...              ...   \n",
       "129494      2023-07-02       17:20:04  -24.145  -67.504            215.0   \n",
       "129495      2023-07-02       17:41:00  -41.786  -73.880             34.0   \n",
       "129496      2023-07-02       18:24:14  -21.647  -68.499            123.0   \n",
       "129497      2023-07-02       18:41:44  -23.136  -67.349            251.0   \n",
       "129498      2023-07-02       19:17:13  -18.062  -69.578            141.0   \n",
       "\n",
       "       Magnitud Tipo_Magnitud       Lugar del epicentro ID_País  \n",
       "0          2.5             Mc    22 km al O de Santiago      CL  \n",
       "1          3.7             Mc  16 km al SO de Melipilla      CL  \n",
       "2          3.8             Mc    18 km al NO de Illapel      CL  \n",
       "3          2.7             Mc     22 km al S de Petorca      CL  \n",
       "4          3.6             Mc   15 km al SO de Quillota      CL  \n",
       "...         ...           ...                       ...     ...  \n",
       "129494     3.0             Ml    73 km al SE de Socaire      CL  \n",
       "129495     3.4             Ml      10 km al NO de Ancud      CL  \n",
       "129496     3.6             Ml    53 km al SO de Ollagüe      CL  \n",
       "129497     3.0             Ml    75 km al NE de Socaire      CL  \n",
       "129498     3.8             Ml       15 km al N de Putre      CL  \n",
       "\n",
       "[129499 rows x 9 columns]"
      ]
     },
     "execution_count": 20,
     "metadata": {},
     "output_type": "execute_result"
    }
   ],
   "source": [
    "prueba2[1]"
   ]
  }
 ],
 "metadata": {
  "kernelspec": {
   "display_name": "Python 3",
   "language": "python",
   "name": "python3"
  },
  "language_info": {
   "codemirror_mode": {
    "name": "ipython",
    "version": 3
   },
   "file_extension": ".py",
   "mimetype": "text/x-python",
   "name": "python",
   "nbconvert_exporter": "python",
   "pygments_lexer": "ipython3",
   "version": "3.11.1"
  },
  "orig_nbformat": 4
 },
 "nbformat": 4,
 "nbformat_minor": 2
}
