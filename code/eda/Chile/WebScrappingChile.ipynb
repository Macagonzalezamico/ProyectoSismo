{
 "cells": [
  {
   "attachments": {},
   "cell_type": "markdown",
   "metadata": {},
   "source": [
    "Importamos las librerías requeridas,\n",
    "\n",
    "Utilizaremos:\n",
    "\n",
    "    Pandas para trabajar con los Dataframes\n",
    "\n",
    "    Datetime para trabajar con las fechas\n",
    "\n",
    "    Requests para solicitar información a las url\n",
    "\n",
    "    BeautifulSoup para interpretar la información en formato html."
   ]
  },
  {
   "cell_type": "code",
   "execution_count": 1,
   "metadata": {},
   "outputs": [],
   "source": [
    "import pandas as pd\n",
    "\n",
    "from datetime import datetime, timedelta\n",
    "\n",
    "import requests\n",
    "\n",
    "from bs4 import BeautifulSoup"
   ]
  },
  {
   "attachments": {},
   "cell_type": "markdown",
   "metadata": {},
   "source": [
    "Primero generamos una lista con las fechas de las cuales queremos obtener datos de la url,\n",
    "\n",
    "La intención es obtener datos desde el 19/08/2015, es la fecha hasta la que tenemos información en la base de datos ya adquirida."
   ]
  },
  {
   "cell_type": "code",
   "execution_count": 2,
   "metadata": {},
   "outputs": [],
   "source": [
    "# Establecemos la fecha inicial:\n",
    "fecha_inicial = datetime(2015, 8, 19)\n",
    "\n",
    "# Para establecer la fecha actual:\n",
    "fecha_actual = datetime.now()\n",
    "\n",
    "# Para crear el listado de fechas:\n",
    "fechas = []\n",
    "delta = timedelta(days=1)  # Establecemos un incremento diario.\n",
    "\n",
    "# Para generar el listado de fechas:\n",
    "while fecha_inicial <= fecha_actual:\n",
    "    fechas.append(fecha_inicial)\n",
    "    fecha_inicial += delta"
   ]
  },
  {
   "attachments": {},
   "cell_type": "markdown",
   "metadata": {},
   "source": [
    "El código que se muestra a continuación es el utilizado para hacer WebScraping de la url.\n",
    "\n",
    "La url tiene la forma https://www.sismologia.cl/sismicidad/catalogo/YYYY/mm/YYYYmmdd.html\n",
    "\n",
    "donde YYYY representa el año, mm el mes y dd el día.\n",
    "\n",
    "Esta estructura es la que iteraremos con la lista de fechas obtenida en el paso anterior.\n",
    "\n",
    "En este paso hacemos uso de Requests y de BeautifulSoup para adquirir la información e interpretarla.\n"
   ]
  },
  {
   "cell_type": "code",
   "execution_count": 3,
   "metadata": {},
   "outputs": [],
   "source": [
    "#Creamos una lista vacía para los datos y establecemos la ruta de la url raíz:\n",
    "data = []\n",
    "url = \"https://www.sismologia.cl/sismicidad/catalogo/\"\n",
    "\n",
    "#Iteramos fecha a fecha de la lista fechas creada en el paso anterior:\n",
    "for fecha in fechas:\n",
    "    # Realizar una solicitud HTTP a la página web con el formato de fecha de la url:\n",
    "    num = fecha.strftime('%Y/%m/%Y%m%d.html')\n",
    "    dir = url + num\n",
    "    response = requests.get(dir)\n",
    "\n",
    "    # Para crear un objeto BeautifulSoup a partir del contenido HTML obtenido:\n",
    "    soup = BeautifulSoup(response.content, \"html.parser\")\n",
    "\n",
    "    # Para extraer los datos de las filas:\n",
    "    data_rows = soup.find_all('tr')[1:]  # Para ignorar la primera fila que contiene los encabezados.\n",
    "    for row in data_rows:\n",
    "        row_data = [cell.text for cell in row.find_all('td')]\n",
    "        data.append(row_data)#Para agregar la información de cada fila a la lista vacía creada al comienzo.\n",
    "\n",
    "# Para crear el DataFrame con la información almacenada en Data:\n",
    "SismosChileCrudo = pd.DataFrame(data, columns=[1,2,3,4,5])"
   ]
  },
  {
   "attachments": {},
   "cell_type": "markdown",
   "metadata": {},
   "source": [
    "Obtenida la información, la almacenamos en formato CSV para transformarla y concatenarla al otro Dataset, pre 2015."
   ]
  },
  {
   "cell_type": "code",
   "execution_count": 4,
   "metadata": {},
   "outputs": [],
   "source": [
    "#Para almacenar la información obtenida en un archivo csv:\n",
    "SismosChileCrudo.to_csv('Datasets/SismosChile2015-2023.csv', index=False)"
   ]
  }
 ],
 "metadata": {
  "kernelspec": {
   "display_name": "Python 3",
   "language": "python",
   "name": "python3"
  },
  "language_info": {
   "codemirror_mode": {
    "name": "ipython",
    "version": 3
   },
   "file_extension": ".py",
   "mimetype": "text/x-python",
   "name": "python",
   "nbconvert_exporter": "python",
   "pygments_lexer": "ipython3",
   "version": "3.11.1"
  },
  "orig_nbformat": 4
 },
 "nbformat": 4,
 "nbformat_minor": 2
}
