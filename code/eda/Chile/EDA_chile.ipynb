{
 "cells": [
  {
   "cell_type": "code",
   "execution_count": 152,
   "metadata": {},
   "outputs": [],
   "source": [
    "import pandas as pd"
   ]
  },
  {
   "cell_type": "code",
   "execution_count": 153,
   "metadata": {},
   "outputs": [],
   "source": [
    "Chile_df = pd.read_csv('SismosChileFinal.csv')"
   ]
  },
  {
   "cell_type": "code",
   "execution_count": 154,
   "metadata": {},
   "outputs": [
    {
     "name": "stdout",
     "output_type": "stream",
     "text": [
      "<class 'pandas.core.frame.DataFrame'>\n",
      "RangeIndex: 118307 entries, 0 to 118306\n",
      "Data columns (total 9 columns):\n",
      " #   Column               Non-Null Count   Dtype  \n",
      "---  ------               --------------   -----  \n",
      " 0   Unnamed: 0           118307 non-null  int64  \n",
      " 1   Fecha local          118307 non-null  object \n",
      " 2   Fecha UTC            118307 non-null  object \n",
      " 3   Latitud              118307 non-null  float64\n",
      " 4   Longitud             118307 non-null  float64\n",
      " 5   Profundidad(Km)      118307 non-null  float64\n",
      " 6   MagnitudPromedio     118307 non-null  float64\n",
      " 7   Magnitudes           118307 non-null  object \n",
      " 8   Lugar del Epicentro  118307 non-null  object \n",
      "dtypes: float64(4), int64(1), object(4)\n",
      "memory usage: 8.1+ MB\n"
     ]
    }
   ],
   "source": [
    "Chile_df.info()"
   ]
  },
  {
   "cell_type": "code",
   "execution_count": 155,
   "metadata": {},
   "outputs": [
    {
     "data": {
      "text/plain": [
       "Unnamed: 0             0\n",
       "Fecha local            0\n",
       "Fecha UTC              0\n",
       "Latitud                0\n",
       "Longitud               0\n",
       "Profundidad(Km)        0\n",
       "MagnitudPromedio       0\n",
       "Magnitudes             0\n",
       "Lugar del Epicentro    0\n",
       "dtype: int64"
      ]
     },
     "execution_count": 155,
     "metadata": {},
     "output_type": "execute_result"
    }
   ],
   "source": [
    "Chile_df.isnull().sum()"
   ]
  },
  {
   "cell_type": "code",
   "execution_count": 156,
   "metadata": {},
   "outputs": [
    {
     "data": {
      "text/plain": [
       "\"#Elimino Valores Nulos.\\nChile_df.dropna(subset=['MagnitudPromedio', 'Magnitudes'], inplace=True)\""
      ]
     },
     "execution_count": 156,
     "metadata": {},
     "output_type": "execute_result"
    }
   ],
   "source": [
    "\"\"\"#Elimino Valores Nulos.\n",
    "Chile_df.dropna(subset=['MagnitudPromedio', 'Magnitudes'], inplace=True)\"\"\"\n"
   ]
  },
  {
   "cell_type": "code",
   "execution_count": 157,
   "metadata": {},
   "outputs": [],
   "source": [
    "#Eliminar las columnas que no serán utilizadas.\n",
    "Chile_df.drop(['Fecha UTC', 'Unnamed: 0'], axis=1, inplace=True)\n"
   ]
  },
  {
   "cell_type": "code",
   "execution_count": 158,
   "metadata": {},
   "outputs": [
    {
     "name": "stdout",
     "output_type": "stream",
     "text": [
      "   Latitud  Longitud  Profundidad(Km)  MagnitudPromedio        Magnitudes  \\\n",
      "0  -34.710   -70.174              0.0               3.1           Mc(3.1)   \n",
      "1  -35.112   -71.375             63.1               3.0  Ml(3.1), Mc(2.9)   \n",
      "2  -31.051   -71.310             64.4               2.7  Ml(2.5), Mc(2.9)   \n",
      "3  -30.159   -70.141              5.4               3.0  Ml(2.7), Mc(3.3)   \n",
      "4  -32.138   -71.753             11.0               3.4  Ml(3.3), Mc(3.6)   \n",
      "\n",
      "          Lugar del Epicentro Fecha del sismo Hora del sismo  \n",
      "0  76 km al E de San Fernando      2003-01-01       16:26:00  \n",
      "1        44 km al NE de Talca      2003-01-01       14:22:00  \n",
      "2   33 km al NO de Combarbalá      2003-01-01       14:02:00  \n",
      "3        57 km al E de Vicuña      2003-01-01       13:25:00  \n",
      "4     60 km al NO de La Ligua      2003-01-01       12:54:00  \n"
     ]
    }
   ],
   "source": [
    "import pandas as pd\n",
    "\n",
    "# Dividir la columna \"Hora y día del sismo\" en fecha y hora\n",
    "Chile_df['Fecha del sismo'] = pd.to_datetime(Chile_df['Fecha local']).dt.date\n",
    "Chile_df['Hora del sismo'] = pd.to_datetime(Chile_df['Fecha local']).dt.time\n",
    "\n",
    "# Eliminar la columna original \"Hora y día del sismo\"\n",
    "Chile_df = Chile_df.drop('Fecha local', axis=1)\n",
    "\n",
    "# Verificar el resultado\n",
    "print(Chile_df.head())\n"
   ]
  },
  {
   "cell_type": "code",
   "execution_count": 159,
   "metadata": {},
   "outputs": [],
   "source": [
    "CHILE_df = 'CHILE_df.csv'\n",
    "Chile_df.to_csv('CHILE_df.csv', index=False)"
   ]
  },
  {
   "cell_type": "code",
   "execution_count": 160,
   "metadata": {},
   "outputs": [],
   "source": [
    "Chile_df = pd.read_csv('CHILE_df.csv')\n"
   ]
  },
  {
   "cell_type": "code",
   "execution_count": 161,
   "metadata": {},
   "outputs": [],
   "source": [
    "#Cambio de Nombres columnas\n",
    "Chile_df = Chile_df.rename(columns={'MagnitudPromedio':'Magnitud', 'Magnitudes' : 'Tipo_Magnitud'})"
   ]
  },
  {
   "cell_type": "code",
   "execution_count": 162,
   "metadata": {},
   "outputs": [],
   "source": [
    "# Agregar la columna 'ID_País' con el valor 'Chile' en cada fila\n",
    "Chile_df['ID_País'] = 'CL'"
   ]
  },
  {
   "cell_type": "code",
   "execution_count": 163,
   "metadata": {},
   "outputs": [],
   "source": [
    "# Definir el nuevo orden de las columnas\n",
    "new_order = [\"Fecha del sismo\", \"Hora del sismo\", \"Latitud\", \"Longitud\", \"Profundidad(Km)\", \"Magnitud\", \"Tipo_Magnitud\", \"Lugar del Epicentro\", \"ID_País\"]\n",
    "\n",
    "# Reindexar el DataFrame con el nuevo orden de columnas\n",
    "Chile_df = Chile_df.reindex(columns=new_order)"
   ]
  },
  {
   "cell_type": "code",
   "execution_count": 164,
   "metadata": {},
   "outputs": [],
   "source": [
    "CHILE_df = 'CHILE_df.csv'\n",
    "Chile_df.to_csv('CHILE_df.csv', index=False)\n"
   ]
  },
  {
   "cell_type": "code",
   "execution_count": 165,
   "metadata": {},
   "outputs": [],
   "source": [
    "Chile_df = pd.read_csv('CHILE_df.csv')"
   ]
  },
  {
   "cell_type": "code",
   "execution_count": 166,
   "metadata": {},
   "outputs": [
    {
     "data": {
      "text/plain": [
       "\"keywords = ['Chile', 'norte', 'sur', 'este', 'oeste', 'región', 'provincia', 'comuna', 'ciudad', 'localidad', 'isla', 'archipiélago', 'península', 'valle', 'cordillera', 'desierto', 'volcán', 'laguna', 'río', 'mar', 'océano', 'fiordo', 'estrecho', 'canal', 'bahía', 'golfo', 'playa', 'parque nacional', 'reserva nacional', 'monumento natural', 'santuario de la naturaleza', 'zona típica', 'sitio histórico', 'pueblo fantasma', 'glaciar', 'termas', 'bosque', 'cascada', 'geiser']\\n\\n# Agregar la columna 'ID_Pais' con valores iniciales NaN\\nChile_df['ID_Pais'] = None\\n\\n# Función para asignar el código de país a partir del lugar\\ndef asignar_codigo_pais(lugar):\\n    lugar = lugar.lower()\\n    for keyword in keywords:\\n        if keyword in lugar:\\n            return 'Chile'\\n    return None\\n\\n# Aplicar la función a la columna 'Lugar' y crear la columna 'ID_Pais'\\nChile_df['ID_Pais'] = Chile_df['Lugar'].apply(asignar_codigo_pais)\\n\""
      ]
     },
     "execution_count": 166,
     "metadata": {},
     "output_type": "execute_result"
    }
   ],
   "source": [
    "\"\"\"keywords = ['Chile', 'norte', 'sur', 'este', 'oeste', 'región', 'provincia', 'comuna', 'ciudad', 'localidad', 'isla', 'archipiélago', 'península', 'valle', 'cordillera', 'desierto', 'volcán', 'laguna', 'río', 'mar', 'océano', 'fiordo', 'estrecho', 'canal', 'bahía', 'golfo', 'playa', 'parque nacional', 'reserva nacional', 'monumento natural', 'santuario de la naturaleza', 'zona típica', 'sitio histórico', 'pueblo fantasma', 'glaciar', 'termas', 'bosque', 'cascada', 'geiser']\n",
    "\n",
    "# Agregar la columna 'ID_Pais' con valores iniciales NaN\n",
    "Chile_df['ID_Pais'] = None\n",
    "\n",
    "# Función para asignar el código de país a partir del lugar\n",
    "def asignar_codigo_pais(lugar):\n",
    "    lugar = lugar.lower()\n",
    "    for keyword in keywords:\n",
    "        if keyword in lugar:\n",
    "            return 'Chile'\n",
    "    return None\n",
    "\n",
    "# Aplicar la función a la columna 'Lugar' y crear la columna 'ID_Pais'\n",
    "Chile_df['ID_Pais'] = Chile_df['Lugar'].apply(asignar_codigo_pais)\n",
    "\"\"\""
   ]
  },
  {
   "cell_type": "code",
   "execution_count": 167,
   "metadata": {},
   "outputs": [
    {
     "data": {
      "text/html": [
       "<div>\n",
       "<style scoped>\n",
       "    .dataframe tbody tr th:only-of-type {\n",
       "        vertical-align: middle;\n",
       "    }\n",
       "\n",
       "    .dataframe tbody tr th {\n",
       "        vertical-align: top;\n",
       "    }\n",
       "\n",
       "    .dataframe thead th {\n",
       "        text-align: right;\n",
       "    }\n",
       "</style>\n",
       "<table border=\"1\" class=\"dataframe\">\n",
       "  <thead>\n",
       "    <tr style=\"text-align: right;\">\n",
       "      <th></th>\n",
       "      <th>Fecha del sismo</th>\n",
       "      <th>Hora del sismo</th>\n",
       "      <th>Latitud</th>\n",
       "      <th>Longitud</th>\n",
       "      <th>Profundidad(Km)</th>\n",
       "      <th>Magnitud</th>\n",
       "      <th>Tipo_Magnitud</th>\n",
       "      <th>Lugar del Epicentro</th>\n",
       "      <th>ID_País</th>\n",
       "    </tr>\n",
       "  </thead>\n",
       "  <tbody>\n",
       "    <tr>\n",
       "      <th>0</th>\n",
       "      <td>2003-01-01</td>\n",
       "      <td>16:26:00</td>\n",
       "      <td>-34.710</td>\n",
       "      <td>-70.174</td>\n",
       "      <td>0.0</td>\n",
       "      <td>3.1</td>\n",
       "      <td>Mc(3.1)</td>\n",
       "      <td>76 km al E de San Fernando</td>\n",
       "      <td>CL</td>\n",
       "    </tr>\n",
       "    <tr>\n",
       "      <th>1</th>\n",
       "      <td>2003-01-01</td>\n",
       "      <td>14:22:00</td>\n",
       "      <td>-35.112</td>\n",
       "      <td>-71.375</td>\n",
       "      <td>63.1</td>\n",
       "      <td>3.0</td>\n",
       "      <td>Ml(3.1), Mc(2.9)</td>\n",
       "      <td>44 km al NE de Talca</td>\n",
       "      <td>CL</td>\n",
       "    </tr>\n",
       "    <tr>\n",
       "      <th>2</th>\n",
       "      <td>2003-01-01</td>\n",
       "      <td>14:02:00</td>\n",
       "      <td>-31.051</td>\n",
       "      <td>-71.310</td>\n",
       "      <td>64.4</td>\n",
       "      <td>2.7</td>\n",
       "      <td>Ml(2.5), Mc(2.9)</td>\n",
       "      <td>33 km al NO de Combarbalá</td>\n",
       "      <td>CL</td>\n",
       "    </tr>\n",
       "    <tr>\n",
       "      <th>3</th>\n",
       "      <td>2003-01-01</td>\n",
       "      <td>13:25:00</td>\n",
       "      <td>-30.159</td>\n",
       "      <td>-70.141</td>\n",
       "      <td>5.4</td>\n",
       "      <td>3.0</td>\n",
       "      <td>Ml(2.7), Mc(3.3)</td>\n",
       "      <td>57 km al E de Vicuña</td>\n",
       "      <td>CL</td>\n",
       "    </tr>\n",
       "    <tr>\n",
       "      <th>4</th>\n",
       "      <td>2003-01-01</td>\n",
       "      <td>12:54:00</td>\n",
       "      <td>-32.138</td>\n",
       "      <td>-71.753</td>\n",
       "      <td>11.0</td>\n",
       "      <td>3.4</td>\n",
       "      <td>Ml(3.3), Mc(3.6)</td>\n",
       "      <td>60 km al NO de La Ligua</td>\n",
       "      <td>CL</td>\n",
       "    </tr>\n",
       "  </tbody>\n",
       "</table>\n",
       "</div>"
      ],
      "text/plain": [
       "  Fecha del sismo Hora del sismo  Latitud  Longitud  Profundidad(Km)  \\\n",
       "0      2003-01-01       16:26:00  -34.710   -70.174              0.0   \n",
       "1      2003-01-01       14:22:00  -35.112   -71.375             63.1   \n",
       "2      2003-01-01       14:02:00  -31.051   -71.310             64.4   \n",
       "3      2003-01-01       13:25:00  -30.159   -70.141              5.4   \n",
       "4      2003-01-01       12:54:00  -32.138   -71.753             11.0   \n",
       "\n",
       "   Magnitud     Tipo_Magnitud         Lugar del Epicentro ID_País  \n",
       "0       3.1           Mc(3.1)  76 km al E de San Fernando      CL  \n",
       "1       3.0  Ml(3.1), Mc(2.9)        44 km al NE de Talca      CL  \n",
       "2       2.7  Ml(2.5), Mc(2.9)   33 km al NO de Combarbalá      CL  \n",
       "3       3.0  Ml(2.7), Mc(3.3)        57 km al E de Vicuña      CL  \n",
       "4       3.4  Ml(3.3), Mc(3.6)     60 km al NO de La Ligua      CL  "
      ]
     },
     "execution_count": 167,
     "metadata": {},
     "output_type": "execute_result"
    }
   ],
   "source": [
    "Chile_df.head()"
   ]
  },
  {
   "cell_type": "code",
   "execution_count": 168,
   "metadata": {},
   "outputs": [
    {
     "name": "stdout",
     "output_type": "stream",
     "text": [
      "<class 'pandas.core.frame.DataFrame'>\n",
      "RangeIndex: 118307 entries, 0 to 118306\n",
      "Data columns (total 9 columns):\n",
      " #   Column               Non-Null Count   Dtype  \n",
      "---  ------               --------------   -----  \n",
      " 0   Fecha del sismo      118307 non-null  object \n",
      " 1   Hora del sismo       118307 non-null  object \n",
      " 2   Latitud              118307 non-null  float64\n",
      " 3   Longitud             118307 non-null  float64\n",
      " 4   Profundidad(Km)      118307 non-null  float64\n",
      " 5   Magnitud             118307 non-null  float64\n",
      " 6   Tipo_Magnitud        118307 non-null  object \n",
      " 7   Lugar del Epicentro  118307 non-null  object \n",
      " 8   ID_País              118307 non-null  object \n",
      "dtypes: float64(4), object(5)\n",
      "memory usage: 8.1+ MB\n"
     ]
    }
   ],
   "source": [
    "Chile_df.info()"
   ]
  },
  {
   "cell_type": "code",
   "execution_count": 169,
   "metadata": {},
   "outputs": [
    {
     "data": {
      "text/plain": [
       "Tipo_Magnitud\n",
       "Ml(2.8)                      7732\n",
       "Ml(2.9)                      7691\n",
       "Ml(2.7)                      7467\n",
       "Ml(3.0)                      7225\n",
       "Ml(2.6)                      7057\n",
       "                             ... \n",
       "Mb(5.4), Ms(5.3), Mw(5.8)       1\n",
       "Mb(5.9), Mw(5.7)                1\n",
       "Mb(5.5), Ms(5.5), Mw(5.8)       1\n",
       "Mb(6.0), Ms(6.3), Mw(6.6)       1\n",
       "Ms(4.5)                         1\n",
       "Name: count, Length: 1302, dtype: int64"
      ]
     },
     "execution_count": 169,
     "metadata": {},
     "output_type": "execute_result"
    }
   ],
   "source": [
    "Chile_df['Tipo_Magnitud'].value_counts()"
   ]
  },
  {
   "cell_type": "code",
   "execution_count": 170,
   "metadata": {},
   "outputs": [
    {
     "ename": "KeyError",
     "evalue": "'Lugar'",
     "output_type": "error",
     "traceback": [
      "\u001b[1;31m---------------------------------------------------------------------------\u001b[0m",
      "\u001b[1;31mKeyError\u001b[0m                                  Traceback (most recent call last)",
      "File \u001b[1;32mc:\\Users\\makag\\OneDrive\\Desktop\\Proyecto_Sismos\\Sismos\\lib\\site-packages\\pandas\\core\\indexes\\base.py:3652\u001b[0m, in \u001b[0;36mIndex.get_loc\u001b[1;34m(self, key)\u001b[0m\n\u001b[0;32m   3651\u001b[0m \u001b[39mtry\u001b[39;00m:\n\u001b[1;32m-> 3652\u001b[0m     \u001b[39mreturn\u001b[39;00m \u001b[39mself\u001b[39;49m\u001b[39m.\u001b[39;49m_engine\u001b[39m.\u001b[39;49mget_loc(casted_key)\n\u001b[0;32m   3653\u001b[0m \u001b[39mexcept\u001b[39;00m \u001b[39mKeyError\u001b[39;00m \u001b[39mas\u001b[39;00m err:\n",
      "File \u001b[1;32mc:\\Users\\makag\\OneDrive\\Desktop\\Proyecto_Sismos\\Sismos\\lib\\site-packages\\pandas\\_libs\\index.pyx:147\u001b[0m, in \u001b[0;36mpandas._libs.index.IndexEngine.get_loc\u001b[1;34m()\u001b[0m\n",
      "File \u001b[1;32mc:\\Users\\makag\\OneDrive\\Desktop\\Proyecto_Sismos\\Sismos\\lib\\site-packages\\pandas\\_libs\\index.pyx:176\u001b[0m, in \u001b[0;36mpandas._libs.index.IndexEngine.get_loc\u001b[1;34m()\u001b[0m\n",
      "File \u001b[1;32mpandas\\_libs\\hashtable_class_helper.pxi:7080\u001b[0m, in \u001b[0;36mpandas._libs.hashtable.PyObjectHashTable.get_item\u001b[1;34m()\u001b[0m\n",
      "File \u001b[1;32mpandas\\_libs\\hashtable_class_helper.pxi:7088\u001b[0m, in \u001b[0;36mpandas._libs.hashtable.PyObjectHashTable.get_item\u001b[1;34m()\u001b[0m\n",
      "\u001b[1;31mKeyError\u001b[0m: 'Lugar'",
      "\nThe above exception was the direct cause of the following exception:\n",
      "\u001b[1;31mKeyError\u001b[0m                                  Traceback (most recent call last)",
      "Cell \u001b[1;32mIn[170], line 4\u001b[0m\n\u001b[0;32m      1\u001b[0m \u001b[39mimport\u001b[39;00m \u001b[39mmatplotlib\u001b[39;00m\u001b[39m.\u001b[39;00m\u001b[39mpyplot\u001b[39;00m \u001b[39mas\u001b[39;00m \u001b[39mplt\u001b[39;00m\n\u001b[0;32m      3\u001b[0m \u001b[39m# Realizar el conteo de valores únicos en la columna 'institution'\u001b[39;00m\n\u001b[1;32m----> 4\u001b[0m institution_counts \u001b[39m=\u001b[39m Chile_df[\u001b[39m'\u001b[39;49m\u001b[39mLugar\u001b[39;49m\u001b[39m'\u001b[39;49m]\u001b[39m.\u001b[39mvalue_counts()\n\u001b[0;32m      6\u001b[0m \u001b[39m# Obtener el top 10 de instituciones más populares\u001b[39;00m\n\u001b[0;32m      7\u001b[0m top_10_institutions \u001b[39m=\u001b[39m institution_counts\u001b[39m.\u001b[39mhead(\u001b[39m10\u001b[39m)\n",
      "File \u001b[1;32mc:\\Users\\makag\\OneDrive\\Desktop\\Proyecto_Sismos\\Sismos\\lib\\site-packages\\pandas\\core\\frame.py:3761\u001b[0m, in \u001b[0;36mDataFrame.__getitem__\u001b[1;34m(self, key)\u001b[0m\n\u001b[0;32m   3759\u001b[0m \u001b[39mif\u001b[39;00m \u001b[39mself\u001b[39m\u001b[39m.\u001b[39mcolumns\u001b[39m.\u001b[39mnlevels \u001b[39m>\u001b[39m \u001b[39m1\u001b[39m:\n\u001b[0;32m   3760\u001b[0m     \u001b[39mreturn\u001b[39;00m \u001b[39mself\u001b[39m\u001b[39m.\u001b[39m_getitem_multilevel(key)\n\u001b[1;32m-> 3761\u001b[0m indexer \u001b[39m=\u001b[39m \u001b[39mself\u001b[39;49m\u001b[39m.\u001b[39;49mcolumns\u001b[39m.\u001b[39;49mget_loc(key)\n\u001b[0;32m   3762\u001b[0m \u001b[39mif\u001b[39;00m is_integer(indexer):\n\u001b[0;32m   3763\u001b[0m     indexer \u001b[39m=\u001b[39m [indexer]\n",
      "File \u001b[1;32mc:\\Users\\makag\\OneDrive\\Desktop\\Proyecto_Sismos\\Sismos\\lib\\site-packages\\pandas\\core\\indexes\\base.py:3654\u001b[0m, in \u001b[0;36mIndex.get_loc\u001b[1;34m(self, key)\u001b[0m\n\u001b[0;32m   3652\u001b[0m     \u001b[39mreturn\u001b[39;00m \u001b[39mself\u001b[39m\u001b[39m.\u001b[39m_engine\u001b[39m.\u001b[39mget_loc(casted_key)\n\u001b[0;32m   3653\u001b[0m \u001b[39mexcept\u001b[39;00m \u001b[39mKeyError\u001b[39;00m \u001b[39mas\u001b[39;00m err:\n\u001b[1;32m-> 3654\u001b[0m     \u001b[39mraise\u001b[39;00m \u001b[39mKeyError\u001b[39;00m(key) \u001b[39mfrom\u001b[39;00m \u001b[39merr\u001b[39;00m\n\u001b[0;32m   3655\u001b[0m \u001b[39mexcept\u001b[39;00m \u001b[39mTypeError\u001b[39;00m:\n\u001b[0;32m   3656\u001b[0m     \u001b[39m# If we have a listlike key, _check_indexing_error will raise\u001b[39;00m\n\u001b[0;32m   3657\u001b[0m     \u001b[39m#  InvalidIndexError. Otherwise we fall through and re-raise\u001b[39;00m\n\u001b[0;32m   3658\u001b[0m     \u001b[39m#  the TypeError.\u001b[39;00m\n\u001b[0;32m   3659\u001b[0m     \u001b[39mself\u001b[39m\u001b[39m.\u001b[39m_check_indexing_error(key)\n",
      "\u001b[1;31mKeyError\u001b[0m: 'Lugar'"
     ]
    }
   ],
   "source": [
    "import matplotlib.pyplot as plt\n",
    "\n",
    "# Realizar el conteo de valores únicos en la columna 'institution'\n",
    "institution_counts = Chile_df['Lugar'].value_counts()\n",
    "\n",
    "# Obtener el top 10 de instituciones más populares\n",
    "top_10_institutions = institution_counts.head(10)\n",
    "\n",
    "# Generar un gráfico de barras para visualizar el top 10 de instituciones\n",
    "plt.figure(figsize=(10, 6))\n",
    "top_10_institutions.plot(kind='bar')\n",
    "plt.xlabel('Institución')\n",
    "plt.ylabel('Cantidad de cursos')\n",
    "plt.title('Top 10 de instituciones más populares')\n",
    "plt.xticks(rotation=75)\n",
    "plt.show()\n"
   ]
  },
  {
   "attachments": {},
   "cell_type": "markdown",
   "metadata": {},
   "source": [
    "Histograma de la columna \"Magnitud_Promedio\" para analizar la distribución de las magnitudes promedio:"
   ]
  },
  {
   "cell_type": "code",
   "execution_count": null,
   "metadata": {},
   "outputs": [
    {
     "data": {
      "image/png": "[encoded data removed]",
      "text/plain": [
       "<Figure size 640x480 with 1 Axes>"
      ]
     },
     "metadata": {},
     "output_type": "display_data"
    }
   ],
   "source": [
    "import matplotlib.pyplot as plt\n",
    "\n",
    "plt.hist(Chile_df['Magnitud'], bins=10)\n",
    "plt.xlabel('Magnitud Promedio')\n",
    "plt.ylabel('Frecuencia')\n",
    "plt.title('Distribución de Magnitud Promedio')\n",
    "plt.show()\n"
   ]
  },
  {
   "attachments": {},
   "cell_type": "markdown",
   "metadata": {},
   "source": [
    "Gráfico de dispersión utilizando las columnas \"Longitud\" y \"Latitud\" para visualizar la distribución geográfica de los eventos:"
   ]
  },
  {
   "cell_type": "code",
   "execution_count": null,
   "metadata": {},
   "outputs": [
    {
     "data": {
      "image/png": "[encoded data removed]",
      "text/plain": [
       "<Figure size 640x480 with 1 Axes>"
      ]
     },
     "metadata": {},
     "output_type": "display_data"
    }
   ],
   "source": [
    "import matplotlib.pyplot as plt\n",
    "\n",
    "plt.scatter(Chile_df['Longitud'], Chile_df['Latitud'])\n",
    "plt.xlabel('Longitud')\n",
    "plt.ylabel('Latitud')\n",
    "plt.title('Distribución Geográfica de los Eventos')\n",
    "plt.show()\n"
   ]
  },
  {
   "attachments": {},
   "cell_type": "markdown",
   "metadata": {},
   "source": [
    "**Análisis de la columna \"Profundidad (Km)\":**"
   ]
  },
  {
   "attachments": {},
   "cell_type": "markdown",
   "metadata": {},
   "source": [
    "Estadísticas descriptivas básicas:"
   ]
  },
  {
   "cell_type": "code",
   "execution_count": null,
   "metadata": {},
   "outputs": [
    {
     "name": "stdout",
     "output_type": "stream",
     "text": [
      "count    118307.000000\n",
      "mean         77.014587\n",
      "std          61.259439\n",
      "min           0.000000\n",
      "25%          30.000000\n",
      "50%          55.100000\n",
      "75%         112.000000\n",
      "max         676.000000\n",
      "Name: Profundidad, dtype: float64\n"
     ]
    }
   ],
   "source": [
    "print(Chile_df['Profundidad'].describe())\n"
   ]
  }
 ],
 "metadata": {
  "kernelspec": {
   "display_name": "Sismos",
   "language": "python",
   "name": "python3"
  },
  "language_info": {
   "codemirror_mode": {
    "name": "ipython",
    "version": 3
   },
   "file_extension": ".py",
   "mimetype": "text/x-python",
   "name": "python",
   "nbconvert_exporter": "python",
   "pygments_lexer": "ipython3",
   "version": "3.10.11"
  },
  "orig_nbformat": 4
 },
 "nbformat": 4,
 "nbformat_minor": 2
}
