{
 "cells": [
  {
   "attachments": {},
   "cell_type": "markdown",
   "metadata": {},
   "source": [
    "Hago pruebas relacionadas con el dispatcher"
   ]
  },
  {
   "cell_type": "code",
   "execution_count": 1,
   "metadata": {},
   "outputs": [],
   "source": [
    "# Imports\n",
    "import sys\n",
    "sys.path.append('../../code/etl/')\n",
    "from DataLoadDispatcher_class import DataLoadDispatcher\n",
    "from InfoExtractorChileURL_class import InfoExtractorChileURL\n",
    "from InfoExtractorUSA_class import InfoExtractorUSA\n",
    "import datetime as dt"
   ]
  },
  {
   "cell_type": "code",
   "execution_count": 2,
   "metadata": {},
   "outputs": [],
   "source": [
    "#ieChile = InfoExtractorChileURL()\n",
    "ieUSA = InfoExtractorUSA()\n",
    "ieChile = InfoExtractorChileURL()"
   ]
  },
  {
   "cell_type": "code",
   "execution_count": 3,
   "metadata": {},
   "outputs": [],
   "source": [
    "d = DataLoadDispatcher(extractor_CL_dataset=None, extractor_CL_url=None, extractor_JP_url=None, extractor_USA_api=ieUSA, extractor_Damage_url=None)"
   ]
  },
  {
   "cell_type": "code",
   "execution_count": 4,
   "metadata": {},
   "outputs": [
    {
     "name": "stdout",
     "output_type": "stream",
     "text": [
      "('urlChile', datetime.datetime(2000, 1, 1, 0, 0), datetime.datetime(9999, 12, 31, 23, 59, 59), 30)\n",
      "('urlUSA', datetime.datetime(2000, 1, 1, 0, 0), datetime.datetime(2023, 6, 30, 23, 59, 59), 30)\n",
      "('urlJapon', datetime.datetime(2023, 7, 1, 0, 0), datetime.datetime(9999, 12, 31, 23, 59, 59), 30)\n",
      "('urlUSA', datetime.datetime(2000, 1, 1, 0, 0), datetime.datetime(9999, 12, 31, 23, 59, 59), 30)\n"
     ]
    }
   ],
   "source": [
    "d.startLoadingSince(sinceDateTime=dt.datetime(2023,6,15))"
   ]
  }
 ],
 "metadata": {
  "kernelspec": {
   "display_name": "Python 3",
   "language": "python",
   "name": "python3"
  },
  "language_info": {
   "codemirror_mode": {
    "name": "ipython",
    "version": 3
   },
   "file_extension": ".py",
   "mimetype": "text/x-python",
   "name": "python",
   "nbconvert_exporter": "python",
   "pygments_lexer": "ipython3",
   "version": "3.9.6"
  },
  "orig_nbformat": 4
 },
 "nbformat": 4,
 "nbformat_minor": 2
}
