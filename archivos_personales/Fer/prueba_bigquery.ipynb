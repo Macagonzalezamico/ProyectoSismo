{
 "cells": [
  {
   "cell_type": "code",
   "execution_count": 5,
   "metadata": {},
   "outputs": [],
   "source": [
    "!export GOOGLE_APPLICATION_CREDENTIALS=\"/Users/fernandoembrioni/Documents/Fer/Capacitacion/soyhenry/data_science/repos/50_Proyectos/PGrupal/repo/ProyectoSismo/data/project-sismos-f5e5a5846eab.json\""
   ]
  },
  {
   "cell_type": "code",
   "execution_count": 8,
   "metadata": {},
   "outputs": [],
   "source": [
    "from google.cloud import bigquery\n",
    "from google.oauth2 import service_account"
   ]
  },
  {
   "cell_type": "code",
   "execution_count": 25,
   "metadata": {},
   "outputs": [],
   "source": [
    "path_root = \"/Users/fernandoembrioni/Documents/Fer/Capacitacion/soyhenry/data_science/repos/50_Proyectos/PGrupal/repo/\"\n",
    "json_credentials = \"ProyectoSismo/data/project-sismos-f5e5a5846eab.json\"\n",
    "first_scope = \"https://www.googleapis.com/auth/cloud-platform\"\n",
    "credentials = service_account.Credentials.from_service_account_file(path_root + json_credentials, scopes=[first_scope],)"
   ]
  },
  {
   "cell_type": "code",
   "execution_count": 26,
   "metadata": {},
   "outputs": [],
   "source": [
    "client = bigquery.Client(credentials=credentials, project=credentials.project_id,)"
   ]
  },
  {
   "cell_type": "code",
   "execution_count": 27,
   "metadata": {},
   "outputs": [],
   "source": [
    "query = '''\n",
    "SELECT\n",
    "    *\n",
    "  FROM\n",
    "    sismos_db.sismos\n",
    "LIMIT 100;\n",
    "'''"
   ]
  },
  {
   "cell_type": "code",
   "execution_count": 28,
   "metadata": {},
   "outputs": [],
   "source": [
    "job = client.query(query)"
   ]
  },
  {
   "cell_type": "code",
   "execution_count": 29,
   "metadata": {},
   "outputs": [
    {
     "name": "stdout",
     "output_type": "stream",
     "text": [
      "Row((datetime.date(2005, 8, 8), datetime.time(23, 1, 7), -33.123, -70.236, 0.0, 2.0, 'ML', '26 km al N de Farellones', 'CL'), {'Fecha_del_sismo': 0, 'Hora_del_sismo': 1, 'Latitud': 2, 'Longitud': 3, 'Profundidad_Km': 4, 'Magnitud': 5, 'Tipo_Magnitud': 6, 'Lugar_del_Epicentro': 7, 'ID_Pais': 8})\n",
      "Row((datetime.date(2008, 6, 3), datetime.time(2, 10, 34), -22.58, -69.811, 0.0, 2.0, 'ML', '62 km al NO de Sierra Gorda.', 'CL'), {'Fecha_del_sismo': 0, 'Hora_del_sismo': 1, 'Latitud': 2, 'Longitud': 3, 'Profundidad_Km': 4, 'Magnitud': 5, 'Tipo_Magnitud': 6, 'Lugar_del_Epicentro': 7, 'ID_Pais': 8})\n",
      "Row((datetime.date(2010, 8, 9), datetime.time(22, 22, 7), -22.289, -68.883, 0.0, 2.0, 'ML', '80 km al E de María Elena', 'CL'), {'Fecha_del_sismo': 0, 'Hora_del_sismo': 1, 'Latitud': 2, 'Longitud': 3, 'Profundidad_Km': 4, 'Magnitud': 5, 'Tipo_Magnitud': 6, 'Lugar_del_Epicentro': 7, 'ID_Pais': 8})\n",
      "Row((datetime.date(2011, 7, 27), datetime.time(23, 37, 34), -23.433, -70.033, 0.0, 2.0, 'ML', '45 km al NE de Antofagasta', 'CL'), {'Fecha_del_sismo': 0, 'Hora_del_sismo': 1, 'Latitud': 2, 'Longitud': 3, 'Profundidad_Km': 4, 'Magnitud': 5, 'Tipo_Magnitud': 6, 'Lugar_del_Epicentro': 7, 'ID_Pais': 8})\n",
      "Row((datetime.date(2012, 12, 11), datetime.time(23, 54, 34), -33.112, -70.24, 0.0, 2.0, 'ML', '42 km al E de Colina', 'CL'), {'Fecha_del_sismo': 0, 'Hora_del_sismo': 1, 'Latitud': 2, 'Longitud': 3, 'Profundidad_Km': 4, 'Magnitud': 5, 'Tipo_Magnitud': 6, 'Lugar_del_Epicentro': 7, 'ID_Pais': 8})\n",
      "Row((datetime.date(2012, 11, 12), datetime.time(2, 15, 34), -23.144, -69.892, 0.0, 2.0, 'ML', '57 km al E de Mejillones', 'CL'), {'Fecha_del_sismo': 0, 'Hora_del_sismo': 1, 'Latitud': 2, 'Longitud': 3, 'Profundidad_Km': 4, 'Magnitud': 5, 'Tipo_Magnitud': 6, 'Lugar_del_Epicentro': 7, 'ID_Pais': 8})\n",
      "Row((datetime.date(2013, 4, 26), datetime.time(23, 52, 34), -23.437, -69.547, 0.0, 2.0, 'ML', '64 km al S de Sierra Gorda.', 'CL'), {'Fecha_del_sismo': 0, 'Hora_del_sismo': 1, 'Latitud': 2, 'Longitud': 3, 'Profundidad_Km': 4, 'Magnitud': 5, 'Tipo_Magnitud': 6, 'Lugar_del_Epicentro': 7, 'ID_Pais': 8})\n",
      "Row((datetime.date(2014, 4, 14), datetime.time(23, 18, 7), -22.806, -69.358, 0.0, 2.0, 'ML', '11 km al NO de Sierra Gorda.', 'CL'), {'Fecha_del_sismo': 0, 'Hora_del_sismo': 1, 'Latitud': 2, 'Longitud': 3, 'Profundidad_Km': 4, 'Magnitud': 5, 'Tipo_Magnitud': 6, 'Lugar_del_Epicentro': 7, 'ID_Pais': 8})\n",
      "Row((datetime.date(2017, 4, 28), datetime.time(0, 45, 38), -22.919, -69.541, 0.0, 2.0, 'ML', '23 km al O de Sierra Gorda.', 'CL'), {'Fecha_del_sismo': 0, 'Hora_del_sismo': 1, 'Latitud': 2, 'Longitud': 3, 'Profundidad_Km': 4, 'Magnitud': 5, 'Tipo_Magnitud': 6, 'Lugar_del_Epicentro': 7, 'ID_Pais': 8})\n",
      "Row((datetime.date(2008, 3, 11), datetime.time(22, 33, 40), -42.795, -72.694, 0.0, 2.5, 'ML', '80 km al NO de Futaleufú', 'CL'), {'Fecha_del_sismo': 0, 'Hora_del_sismo': 1, 'Latitud': 2, 'Longitud': 3, 'Profundidad_Km': 4, 'Magnitud': 5, 'Tipo_Magnitud': 6, 'Lugar_del_Epicentro': 7, 'ID_Pais': 8})\n",
      "Row((datetime.date(2009, 4, 18), datetime.time(22, 33, 7), -31.681, -70.641, 0.0, 2.5, 'ML', '33 km al E de Salamanca', 'CL'), {'Fecha_del_sismo': 0, 'Hora_del_sismo': 1, 'Latitud': 2, 'Longitud': 3, 'Profundidad_Km': 4, 'Magnitud': 5, 'Tipo_Magnitud': 6, 'Lugar_del_Epicentro': 7, 'ID_Pais': 8})\n",
      "Row((datetime.date(2009, 6, 27), datetime.time(22, 38, 34), -23.453, -70.018, 0.0, 2.5, 'ML', '45 km al NE de Antofagasta', 'CL'), {'Fecha_del_sismo': 0, 'Hora_del_sismo': 1, 'Latitud': 2, 'Longitud': 3, 'Profundidad_Km': 4, 'Magnitud': 5, 'Tipo_Magnitud': 6, 'Lugar_del_Epicentro': 7, 'ID_Pais': 8})\n",
      "Row((datetime.date(2017, 12, 15), datetime.time(0, 59, 26), -18.481, -69.129, 0.0, 2.5, 'ML', '55 km al SE de Putre', 'CL'), {'Fecha_del_sismo': 0, 'Hora_del_sismo': 1, 'Latitud': 2, 'Longitud': 3, 'Profundidad_Km': 4, 'Magnitud': 5, 'Tipo_Magnitud': 6, 'Lugar_del_Epicentro': 7, 'ID_Pais': 8})\n",
      "Row((datetime.date(2003, 5, 23), datetime.time(21, 31, 27), -31.23, -69.477, 0.0, 3.0, 'ML', '97 km al O de San Juan', 'CL'), {'Fecha_del_sismo': 0, 'Hora_del_sismo': 1, 'Latitud': 2, 'Longitud': 3, 'Profundidad_Km': 4, 'Magnitud': 5, 'Tipo_Magnitud': 6, 'Lugar_del_Epicentro': 7, 'ID_Pais': 8})\n",
      "Row((datetime.date(2003, 8, 16), datetime.time(23, 16, 40), -34.081, -70.344, 0.0, 3.0, 'ML', '49 km al S de San José de Maipo', 'CL'), {'Fecha_del_sismo': 0, 'Hora_del_sismo': 1, 'Latitud': 2, 'Longitud': 3, 'Profundidad_Km': 4, 'Magnitud': 5, 'Tipo_Magnitud': 6, 'Lugar_del_Epicentro': 7, 'ID_Pais': 8})\n",
      "Row((datetime.date(2003, 9, 29), datetime.time(1, 32, 27), -32.572, -69.013, 0.0, 3.0, 'ML', '124 km al S de San Juan.', 'CL'), {'Fecha_del_sismo': 0, 'Hora_del_sismo': 1, 'Latitud': 2, 'Longitud': 3, 'Profundidad_Km': 4, 'Magnitud': 5, 'Tipo_Magnitud': 6, 'Lugar_del_Epicentro': 7, 'ID_Pais': 8})\n",
      "Row((datetime.date(2004, 1, 27), datetime.time(0, 17, 27), -32.023, -68.2, 0.0, 3.0, 'ML', '62 km al SE de San Juan.', 'CL'), {'Fecha_del_sismo': 0, 'Hora_del_sismo': 1, 'Latitud': 2, 'Longitud': 3, 'Profundidad_Km': 4, 'Magnitud': 5, 'Tipo_Magnitud': 6, 'Lugar_del_Epicentro': 7, 'ID_Pais': 8})\n",
      "Row((datetime.date(2004, 8, 22), datetime.time(0, 20), -31.982, -71.272, 0.0, 3.0, 'ML', '37 km al SO de Salamanca', 'CL'), {'Fecha_del_sismo': 0, 'Hora_del_sismo': 1, 'Latitud': 2, 'Longitud': 3, 'Profundidad_Km': 4, 'Magnitud': 5, 'Tipo_Magnitud': 6, 'Lugar_del_Epicentro': 7, 'ID_Pais': 8})\n",
      "Row((datetime.date(2004, 8, 9), datetime.time(21, 38, 34), -34.975, -70.507, 0.0, 3.0, 'ML', '62 km al SE de San Fernando', 'CL'), {'Fecha_del_sismo': 0, 'Hora_del_sismo': 1, 'Latitud': 2, 'Longitud': 3, 'Profundidad_Km': 4, 'Magnitud': 5, 'Tipo_Magnitud': 6, 'Lugar_del_Epicentro': 7, 'ID_Pais': 8})\n",
      "Row((datetime.date(2004, 9, 20), datetime.time(0, 7, 34), -34.999, -70.52, 0.0, 3.0, 'ML', '63 km al SE de San Fernando', 'CL'), {'Fecha_del_sismo': 0, 'Hora_del_sismo': 1, 'Latitud': 2, 'Longitud': 3, 'Profundidad_Km': 4, 'Magnitud': 5, 'Tipo_Magnitud': 6, 'Lugar_del_Epicentro': 7, 'ID_Pais': 8})\n",
      "Row((datetime.date(2004, 10, 16), datetime.time(23, 54, 34), -33.133, -70.267, 0.0, 3.0, 'ML', '39 km al E de Colina', 'CL'), {'Fecha_del_sismo': 0, 'Hora_del_sismo': 1, 'Latitud': 2, 'Longitud': 3, 'Profundidad_Km': 4, 'Magnitud': 5, 'Tipo_Magnitud': 6, 'Lugar_del_Epicentro': 7, 'ID_Pais': 8})\n",
      "Row((datetime.date(2004, 10, 30), datetime.time(21, 55, 7), -34.937, -70.496, 0.0, 3.0, 'ML', '60 km al SE de San Fernando', 'CL'), {'Fecha_del_sismo': 0, 'Hora_del_sismo': 1, 'Latitud': 2, 'Longitud': 3, 'Profundidad_Km': 4, 'Magnitud': 5, 'Tipo_Magnitud': 6, 'Lugar_del_Epicentro': 7, 'ID_Pais': 8})\n",
      "Row((datetime.date(2004, 12, 14), datetime.time(23, 39, 34), -34.962, -70.541, 0.0, 3.0, 'ML', '59 km al SE de San Fernando', 'CL'), {'Fecha_del_sismo': 0, 'Hora_del_sismo': 1, 'Latitud': 2, 'Longitud': 3, 'Profundidad_Km': 4, 'Magnitud': 5, 'Tipo_Magnitud': 6, 'Lugar_del_Epicentro': 7, 'ID_Pais': 8})\n",
      "Row((datetime.date(2005, 1, 25), datetime.time(1, 31), -31.835, -72.021, 0.0, 3.0, 'ML', '49 km al O de Los Vilos', 'CL'), {'Fecha_del_sismo': 0, 'Hora_del_sismo': 1, 'Latitud': 2, 'Longitud': 3, 'Profundidad_Km': 4, 'Magnitud': 5, 'Tipo_Magnitud': 6, 'Lugar_del_Epicentro': 7, 'ID_Pais': 8})\n",
      "Row((datetime.date(2005, 7, 19), datetime.time(22, 11, 7), -32.622, -71.128, 0.0, 3.0, 'ML', '22 km al SE de La Ligua', 'CL'), {'Fecha_del_sismo': 0, 'Hora_del_sismo': 1, 'Latitud': 2, 'Longitud': 3, 'Profundidad_Km': 4, 'Magnitud': 5, 'Tipo_Magnitud': 6, 'Lugar_del_Epicentro': 7, 'ID_Pais': 8})\n",
      "Row((datetime.date(2006, 11, 9), datetime.time(22, 35, 40), -34.206, -68.744, 0.0, 3.0, 'ML', '147 km al S de Mendoza', 'CL'), {'Fecha_del_sismo': 0, 'Hora_del_sismo': 1, 'Latitud': 2, 'Longitud': 3, 'Profundidad_Km': 4, 'Magnitud': 5, 'Tipo_Magnitud': 6, 'Lugar_del_Epicentro': 7, 'ID_Pais': 8})\n",
      "Row((datetime.date(2007, 8, 16), datetime.time(22, 54), -32.335, -72.123, 0.0, 3.0, 'ML', '85 km al O de La Ligua', 'CL'), {'Fecha_del_sismo': 0, 'Hora_del_sismo': 1, 'Latitud': 2, 'Longitud': 3, 'Profundidad_Km': 4, 'Magnitud': 5, 'Tipo_Magnitud': 6, 'Lugar_del_Epicentro': 7, 'ID_Pais': 8})\n",
      "Row((datetime.date(2007, 10, 9), datetime.time(22, 4, 7), -33.337, -70.605, 0.0, 3.0, 'ML', '16 km al SE de Colina', 'CL'), {'Fecha_del_sismo': 0, 'Hora_del_sismo': 1, 'Latitud': 2, 'Longitud': 3, 'Profundidad_Km': 4, 'Magnitud': 5, 'Tipo_Magnitud': 6, 'Lugar_del_Epicentro': 7, 'ID_Pais': 8})\n",
      "Row((datetime.date(2003, 5, 30), datetime.time(23, 42, 27), -32.043, -72.018, 0.0, 3.5, 'ML', '87 km al NO de La Ligua', 'CL'), {'Fecha_del_sismo': 0, 'Hora_del_sismo': 1, 'Latitud': 2, 'Longitud': 3, 'Profundidad_Km': 4, 'Magnitud': 5, 'Tipo_Magnitud': 6, 'Lugar_del_Epicentro': 7, 'ID_Pais': 8})\n",
      "Row((datetime.date(2004, 2, 7), datetime.time(22, 46, 27), -32.847, -68.449, 0.0, 3.5, 'ML', '146 km al S de San Juan.', 'CL'), {'Fecha_del_sismo': 0, 'Hora_del_sismo': 1, 'Latitud': 2, 'Longitud': 3, 'Profundidad_Km': 4, 'Magnitud': 5, 'Tipo_Magnitud': 6, 'Lugar_del_Epicentro': 7, 'ID_Pais': 8})\n",
      "Row((datetime.date(2005, 4, 6), datetime.time(23, 0, 7), -35.509, -72.981, 0.0, 3.5, 'ML', '55 km al O de Constitución', 'CL'), {'Fecha_del_sismo': 0, 'Hora_del_sismo': 1, 'Latitud': 2, 'Longitud': 3, 'Profundidad_Km': 4, 'Magnitud': 5, 'Tipo_Magnitud': 6, 'Lugar_del_Epicentro': 7, 'ID_Pais': 8})\n",
      "Row((datetime.date(2005, 6, 16), datetime.time(23, 3, 34), -34.983, -70.455, 0.0, 3.5, 'ML', '3 km al SO de Termas del Flaco', 'CL'), {'Fecha_del_sismo': 0, 'Hora_del_sismo': 1, 'Latitud': 2, 'Longitud': 3, 'Profundidad_Km': 4, 'Magnitud': 5, 'Tipo_Magnitud': 6, 'Lugar_del_Epicentro': 7, 'ID_Pais': 8})\n",
      "Row((datetime.date(2006, 4, 28), datetime.time(0, 20, 7), -27.619, -71.56, 0.0, 3.5, 'ML', '95 km al SO de Caldera', 'CL'), {'Fecha_del_sismo': 0, 'Hora_del_sismo': 1, 'Latitud': 2, 'Longitud': 3, 'Profundidad_Km': 4, 'Magnitud': 5, 'Tipo_Magnitud': 6, 'Lugar_del_Epicentro': 7, 'ID_Pais': 8})\n",
      "Row((datetime.date(2006, 5, 29), datetime.time(21, 36, 27), -61.106, -17.895, 0.0, 5.5, 'ML', '2930 km al E de Puerto Williams', 'CL'), {'Fecha_del_sismo': 0, 'Hora_del_sismo': 1, 'Latitud': 2, 'Longitud': 3, 'Profundidad_Km': 4, 'Magnitud': 5, 'Tipo_Magnitud': 6, 'Lugar_del_Epicentro': 7, 'ID_Pais': 8})\n",
      "Row((datetime.date(2009, 1, 5), datetime.time(1, 4, 34), -22.245, -68.952, 0.0, 1.5, 'ML', '74 km al E de María Elena', 'CL'), {'Fecha_del_sismo': 0, 'Hora_del_sismo': 1, 'Latitud': 2, 'Longitud': 3, 'Profundidad_Km': 4, 'Magnitud': 5, 'Tipo_Magnitud': 6, 'Lugar_del_Epicentro': 7, 'ID_Pais': 8})\n",
      "Row((datetime.date(2003, 8, 1), datetime.time(23, 54, 34), -33.185, -70.219, 0.0, 2.4, 'ML', '43 km al E de Colina', 'CL'), {'Fecha_del_sismo': 0, 'Hora_del_sismo': 1, 'Latitud': 2, 'Longitud': 3, 'Profundidad_Km': 4, 'Magnitud': 5, 'Tipo_Magnitud': 6, 'Lugar_del_Epicentro': 7, 'ID_Pais': 8})\n",
      "Row((datetime.date(2004, 5, 10), datetime.time(23, 57, 7), -35.04, -70.544, 0.0, 2.4, 'ML', '64 km al E de Curicó', 'CL'), {'Fecha_del_sismo': 0, 'Hora_del_sismo': 1, 'Latitud': 2, 'Longitud': 3, 'Profundidad_Km': 4, 'Magnitud': 5, 'Tipo_Magnitud': 6, 'Lugar_del_Epicentro': 7, 'ID_Pais': 8})\n",
      "Row((datetime.date(2005, 7, 4), datetime.time(21, 26, 40), -32.997, -71.928, 0.0, 2.4, 'ML', '30 km al O de Valparaíso', 'CL'), {'Fecha_del_sismo': 0, 'Hora_del_sismo': 1, 'Latitud': 2, 'Longitud': 3, 'Profundidad_Km': 4, 'Magnitud': 5, 'Tipo_Magnitud': 6, 'Lugar_del_Epicentro': 7, 'ID_Pais': 8})\n",
      "Row((datetime.date(2005, 4, 18), datetime.time(22, 59, 27), -34.344, -70.255, 0.0, 2.4, 'ML', '48 km al E de Rancagua', 'CL'), {'Fecha_del_sismo': 0, 'Hora_del_sismo': 1, 'Latitud': 2, 'Longitud': 3, 'Profundidad_Km': 4, 'Magnitud': 5, 'Tipo_Magnitud': 6, 'Lugar_del_Epicentro': 7, 'ID_Pais': 8})\n",
      "Row((datetime.date(2005, 3, 5), datetime.time(1, 27), -33.119, -70.275, 0.0, 2.4, 'ML', '26 km al N de Farellones', 'CL'), {'Fecha_del_sismo': 0, 'Hora_del_sismo': 1, 'Latitud': 2, 'Longitud': 3, 'Profundidad_Km': 4, 'Magnitud': 5, 'Tipo_Magnitud': 6, 'Lugar_del_Epicentro': 7, 'ID_Pais': 8})\n",
      "Row((datetime.date(2008, 3, 21), datetime.time(23, 59, 27), -34.302, -70.191, 0.0, 2.4, 'ML', '75 km al S de San José de Maipo', 'CL'), {'Fecha_del_sismo': 0, 'Hora_del_sismo': 1, 'Latitud': 2, 'Longitud': 3, 'Profundidad_Km': 4, 'Magnitud': 5, 'Tipo_Magnitud': 6, 'Lugar_del_Epicentro': 7, 'ID_Pais': 8})\n",
      "Row((datetime.date(2009, 5, 5), datetime.time(22, 37, 7), -22.287, -68.948, 0.0, 2.4, 'ML', '74 km al E de María Elena', 'CL'), {'Fecha_del_sismo': 0, 'Hora_del_sismo': 1, 'Latitud': 2, 'Longitud': 3, 'Profundidad_Km': 4, 'Magnitud': 5, 'Tipo_Magnitud': 6, 'Lugar_del_Epicentro': 7, 'ID_Pais': 8})\n",
      "Row((datetime.date(2009, 5, 16), datetime.time(21, 29, 7), -23.051, -68.99, 0.0, 2.4, 'ML', '65 km al S de Calama', 'CL'), {'Fecha_del_sismo': 0, 'Hora_del_sismo': 1, 'Latitud': 2, 'Longitud': 3, 'Profundidad_Km': 4, 'Magnitud': 5, 'Tipo_Magnitud': 6, 'Lugar_del_Epicentro': 7, 'ID_Pais': 8})\n",
      "Row((datetime.date(2003, 7, 14), datetime.time(23, 4, 40), -32.919, -69.147, 0.0, 2.9, 'ML', '119 km al NE de Farellones', 'CL'), {'Fecha_del_sismo': 0, 'Hora_del_sismo': 1, 'Latitud': 2, 'Longitud': 3, 'Profundidad_Km': 4, 'Magnitud': 5, 'Tipo_Magnitud': 6, 'Lugar_del_Epicentro': 7, 'ID_Pais': 8})\n",
      "Row((datetime.date(2003, 8, 29), datetime.time(1, 21, 34), -32.645, -70.43, 0.0, 2.9, 'ML', '64 km al SE de Petorca', 'CL'), {'Fecha_del_sismo': 0, 'Hora_del_sismo': 1, 'Latitud': 2, 'Longitud': 3, 'Profundidad_Km': 4, 'Magnitud': 5, 'Tipo_Magnitud': 6, 'Lugar_del_Epicentro': 7, 'ID_Pais': 8})\n",
      "Row((datetime.date(2004, 5, 2), datetime.time(23, 50, 34), -33.143, -70.253, 0.0, 2.9, 'ML', '40 km al E de Colina', 'CL'), {'Fecha_del_sismo': 0, 'Hora_del_sismo': 1, 'Latitud': 2, 'Longitud': 3, 'Profundidad_Km': 4, 'Magnitud': 5, 'Tipo_Magnitud': 6, 'Lugar_del_Epicentro': 7, 'ID_Pais': 8})\n",
      "Row((datetime.date(2004, 7, 2), datetime.time(23, 53, 34), -33.141, -70.258, 0.0, 2.9, 'ML', '40 km al E de Colina', 'CL'), {'Fecha_del_sismo': 0, 'Hora_del_sismo': 1, 'Latitud': 2, 'Longitud': 3, 'Profundidad_Km': 4, 'Magnitud': 5, 'Tipo_Magnitud': 6, 'Lugar_del_Epicentro': 7, 'ID_Pais': 8})\n",
      "Row((datetime.date(2004, 7, 9), datetime.time(22, 59, 27), -35.042, -70.558, 0.0, 2.9, 'ML', '63 km al E de Curicó', 'CL'), {'Fecha_del_sismo': 0, 'Hora_del_sismo': 1, 'Latitud': 2, 'Longitud': 3, 'Profundidad_Km': 4, 'Magnitud': 5, 'Tipo_Magnitud': 6, 'Lugar_del_Epicentro': 7, 'ID_Pais': 8})\n",
      "Row((datetime.date(2004, 9, 16), datetime.time(2, 31, 27), -34.929, -70.506, 0.0, 2.9, 'ML', '59 km al SE de San Fernando', 'CL'), {'Fecha_del_sismo': 0, 'Hora_del_sismo': 1, 'Latitud': 2, 'Longitud': 3, 'Profundidad_Km': 4, 'Magnitud': 5, 'Tipo_Magnitud': 6, 'Lugar_del_Epicentro': 7, 'ID_Pais': 8})\n",
      "Row((datetime.date(2006, 4, 10), datetime.time(22, 41, 34), -34.934, -70.509, 0.0, 2.9, 'ML', '7 km al O de Termas del Flaco', 'CL'), {'Fecha_del_sismo': 0, 'Hora_del_sismo': 1, 'Latitud': 2, 'Longitud': 3, 'Profundidad_Km': 4, 'Magnitud': 5, 'Tipo_Magnitud': 6, 'Lugar_del_Epicentro': 7, 'ID_Pais': 8})\n",
      "Row((datetime.date(2007, 7, 21), datetime.time(23, 1, 27), -31.698, -71.325, 0.0, 2.9, 'ML', '30 km al NE de Los Vilos', 'CL'), {'Fecha_del_sismo': 0, 'Hora_del_sismo': 1, 'Latitud': 2, 'Longitud': 3, 'Profundidad_Km': 4, 'Magnitud': 5, 'Tipo_Magnitud': 6, 'Lugar_del_Epicentro': 7, 'ID_Pais': 8})\n",
      "Row((datetime.date(2008, 4, 28), datetime.time(23, 13, 27), -32.618, -68.925, 0.0, 2.9, 'ML', '126 km al S de San Juan.', 'CL'), {'Fecha_del_sismo': 0, 'Hora_del_sismo': 1, 'Latitud': 2, 'Longitud': 3, 'Profundidad_Km': 4, 'Magnitud': 5, 'Tipo_Magnitud': 6, 'Lugar_del_Epicentro': 7, 'ID_Pais': 8})\n",
      "Row((datetime.date(2008, 6, 11), datetime.time(21, 44, 27), -42.789, -72.715, 0.0, 2.9, 'ML', '82 km al NO de Futaleufú', 'CL'), {'Fecha_del_sismo': 0, 'Hora_del_sismo': 1, 'Latitud': 2, 'Longitud': 3, 'Profundidad_Km': 4, 'Magnitud': 5, 'Tipo_Magnitud': 6, 'Lugar_del_Epicentro': 7, 'ID_Pais': 8})\n",
      "Row((datetime.date(2009, 5, 22), datetime.time(21, 53, 7), -22.984, -69.005, 0.0, 2.9, 'ML', '57 km al S de Calama', 'CL'), {'Fecha_del_sismo': 0, 'Hora_del_sismo': 1, 'Latitud': 2, 'Longitud': 3, 'Profundidad_Km': 4, 'Magnitud': 5, 'Tipo_Magnitud': 6, 'Lugar_del_Epicentro': 7, 'ID_Pais': 8})\n",
      "Row((datetime.date(2010, 6, 2), datetime.time(22, 21, 7), -22.299, -68.947, 0.0, 2.9, 'ML', '74 km al E de María Elena', 'CL'), {'Fecha_del_sismo': 0, 'Hora_del_sismo': 1, 'Latitud': 2, 'Longitud': 3, 'Profundidad_Km': 4, 'Magnitud': 5, 'Tipo_Magnitud': 6, 'Lugar_del_Epicentro': 7, 'ID_Pais': 8})\n",
      "Row((datetime.date(2010, 6, 27), datetime.time(2, 6, 27), -35.66, -72.9, 0.0, 2.9, 'ML', '57 km al SO de Constitución', 'CL'), {'Fecha_del_sismo': 0, 'Hora_del_sismo': 1, 'Latitud': 2, 'Longitud': 3, 'Profundidad_Km': 4, 'Magnitud': 5, 'Tipo_Magnitud': 6, 'Lugar_del_Epicentro': 7, 'ID_Pais': 8})\n",
      "Row((datetime.date(2014, 7, 29), datetime.time(2, 20), -27.904, -70.971, 0.0, 2.9, 'ML', '77 km al N de Vallenar', 'CL'), {'Fecha_del_sismo': 0, 'Hora_del_sismo': 1, 'Latitud': 2, 'Longitud': 3, 'Profundidad_Km': 4, 'Magnitud': 5, 'Tipo_Magnitud': 6, 'Lugar_del_Epicentro': 7, 'ID_Pais': 8})\n",
      "Row((datetime.date(2003, 7, 17), datetime.time(1, 8, 27), -34.742, -72.545, 0.0, 3.4, 'ML', '63 km al SO de Pichilemu', 'CL'), {'Fecha_del_sismo': 0, 'Hora_del_sismo': 1, 'Latitud': 2, 'Longitud': 3, 'Profundidad_Km': 4, 'Magnitud': 5, 'Tipo_Magnitud': 6, 'Lugar_del_Epicentro': 7, 'ID_Pais': 8})\n",
      "Row((datetime.date(2004, 8, 28), datetime.time(2, 32), -35.047, -70.63, 0.0, 3.4, 'ML', '56 km al E de Curicó', 'CL'), {'Fecha_del_sismo': 0, 'Hora_del_sismo': 1, 'Latitud': 2, 'Longitud': 3, 'Profundidad_Km': 4, 'Magnitud': 5, 'Tipo_Magnitud': 6, 'Lugar_del_Epicentro': 7, 'ID_Pais': 8})\n",
      "Row((datetime.date(2004, 8, 28), datetime.time(0, 46), -31.752, -69.101, 0.0, 3.4, 'ML', '61 km al SO de San Juan', 'CL'), {'Fecha_del_sismo': 0, 'Hora_del_sismo': 1, 'Latitud': 2, 'Longitud': 3, 'Profundidad_Km': 4, 'Magnitud': 5, 'Tipo_Magnitud': 6, 'Lugar_del_Epicentro': 7, 'ID_Pais': 8})\n",
      "Row((datetime.date(2004, 9, 30), datetime.time(23, 58), -35.199, -72.548, 0.0, 3.4, 'ML', '61 km al SO de Vichuquén', 'CL'), {'Fecha_del_sismo': 0, 'Hora_del_sismo': 1, 'Latitud': 2, 'Longitud': 3, 'Profundidad_Km': 4, 'Magnitud': 5, 'Tipo_Magnitud': 6, 'Lugar_del_Epicentro': 7, 'ID_Pais': 8})\n",
      "Row((datetime.date(2005, 2, 14), datetime.time(22, 21, 34), -34.924, -70.499, 0.0, 3.4, 'ML', '7 km al NO de Termas del Flaco', 'CL'), {'Fecha_del_sismo': 0, 'Hora_del_sismo': 1, 'Latitud': 2, 'Longitud': 3, 'Profundidad_Km': 4, 'Magnitud': 5, 'Tipo_Magnitud': 6, 'Lugar_del_Epicentro': 7, 'ID_Pais': 8})\n",
      "Row((datetime.date(2005, 4, 6), datetime.time(0, 15, 7), -35.534, -72.947, 0.0, 3.4, 'ML', '53 km al O de Constitución', 'CL'), {'Fecha_del_sismo': 0, 'Hora_del_sismo': 1, 'Latitud': 2, 'Longitud': 3, 'Profundidad_Km': 4, 'Magnitud': 5, 'Tipo_Magnitud': 6, 'Lugar_del_Epicentro': 7, 'ID_Pais': 8})\n",
      "Row((datetime.date(2006, 3, 6), datetime.time(1, 51, 34), -33.115, -70.132, 0.0, 3.4, 'ML', '31 km al NE de Farellones', 'CL'), {'Fecha_del_sismo': 0, 'Hora_del_sismo': 1, 'Latitud': 2, 'Longitud': 3, 'Profundidad_Km': 4, 'Magnitud': 5, 'Tipo_Magnitud': 6, 'Lugar_del_Epicentro': 7, 'ID_Pais': 8})\n",
      "Row((datetime.date(2006, 11, 8), datetime.time(1, 20, 7), -35.253, -70.769, 0.0, 3.4, 'ML', '45 km al SO de Termas del Flaco', 'CL'), {'Fecha_del_sismo': 0, 'Hora_del_sismo': 1, 'Latitud': 2, 'Longitud': 3, 'Profundidad_Km': 4, 'Magnitud': 5, 'Tipo_Magnitud': 6, 'Lugar_del_Epicentro': 7, 'ID_Pais': 8})\n",
      "Row((datetime.date(2007, 3, 16), datetime.time(23, 3, 7), -35.202, -68.65, 0.0, 3.4, 'ML', '223 km al SE de Rancagua', 'CL'), {'Fecha_del_sismo': 0, 'Hora_del_sismo': 1, 'Latitud': 2, 'Longitud': 3, 'Profundidad_Km': 4, 'Magnitud': 5, 'Tipo_Magnitud': 6, 'Lugar_del_Epicentro': 7, 'ID_Pais': 8})\n",
      "Row((datetime.date(2008, 7, 19), datetime.time(23, 19, 40), -19.707, -68.883, 0.0, 3.4, 'ML', '72 km al SE de Camiña', 'CL'), {'Fecha_del_sismo': 0, 'Hora_del_sismo': 1, 'Latitud': 2, 'Longitud': 3, 'Profundidad_Km': 4, 'Magnitud': 5, 'Tipo_Magnitud': 6, 'Lugar_del_Epicentro': 7, 'ID_Pais': 8})\n",
      "Row((datetime.date(2009, 6, 3), datetime.time(0, 15, 27), -42.82, -72.587, 0.0, 3.4, 'ML', '71 km al NO de Futaleufú', 'CL'), {'Fecha_del_sismo': 0, 'Hora_del_sismo': 1, 'Latitud': 2, 'Longitud': 3, 'Profundidad_Km': 4, 'Magnitud': 5, 'Tipo_Magnitud': 6, 'Lugar_del_Epicentro': 7, 'ID_Pais': 8})\n",
      "Row((datetime.date(2010, 8, 15), datetime.time(0, 2, 34), -35.225, -73.795, 0.0, 3.4, 'ML', '135 km al NO de Cobquecura', 'CL'), {'Fecha_del_sismo': 0, 'Hora_del_sismo': 1, 'Latitud': 2, 'Longitud': 3, 'Profundidad_Km': 4, 'Magnitud': 5, 'Tipo_Magnitud': 6, 'Lugar_del_Epicentro': 7, 'ID_Pais': 8})\n",
      "Row((datetime.date(2011, 3, 17), datetime.time(23, 36, 27), -36.606, -73.468, 0.0, 3.4, 'ML', '61 km al NO de Lota', 'CL'), {'Fecha_del_sismo': 0, 'Hora_del_sismo': 1, 'Latitud': 2, 'Longitud': 3, 'Profundidad_Km': 4, 'Magnitud': 5, 'Tipo_Magnitud': 6, 'Lugar_del_Epicentro': 7, 'ID_Pais': 8})\n",
      "Row((datetime.date(2010, 3, 9), datetime.time(0, 16, 7), -35.667, -73.292, 0.0, 3.9, 'ML', '88 km al SO de Constitución', 'CL'), {'Fecha_del_sismo': 0, 'Hora_del_sismo': 1, 'Latitud': 2, 'Longitud': 3, 'Profundidad_Km': 4, 'Magnitud': 5, 'Tipo_Magnitud': 6, 'Lugar_del_Epicentro': 7, 'ID_Pais': 8})\n",
      "Row((datetime.date(2003, 11, 18), datetime.time(1, 3, 34), -35.835, -66.732, 0.0, 5.3, 'ML', '350 km al E de Termas del Flaco', 'CL'), {'Fecha_del_sismo': 0, 'Hora_del_sismo': 1, 'Latitud': 2, 'Longitud': 3, 'Profundidad_Km': 4, 'Magnitud': 5, 'Tipo_Magnitud': 6, 'Lugar_del_Epicentro': 7, 'ID_Pais': 8})\n",
      "Row((datetime.date(1970, 1, 20), datetime.time(23, 0, 58), 60.2936, -141.3164, 0.0, 1.2, 'ML', '121 km NW of Yakutat, Alaska', 'US'), {'Fecha_del_sismo': 0, 'Hora_del_sismo': 1, 'Latitud': 2, 'Longitud': 3, 'Profundidad_Km': 4, 'Magnitud': 5, 'Tipo_Magnitud': 6, 'Lugar_del_Epicentro': 7, 'ID_Pais': 8})\n",
      "Row((datetime.date(2007, 9, 16), datetime.time(0, 7, 34), -33.165, -70.237, 0.0, 1.7, 'ML', '41 km al E de Colina', 'CL'), {'Fecha_del_sismo': 0, 'Hora_del_sismo': 1, 'Latitud': 2, 'Longitud': 3, 'Profundidad_Km': 4, 'Magnitud': 5, 'Tipo_Magnitud': 6, 'Lugar_del_Epicentro': 7, 'ID_Pais': 8})\n",
      "Row((datetime.date(2009, 4, 5), datetime.time(1, 2, 34), -22.258, -68.9, 0.0, 1.7, 'ML', '79 km al E de María Elena', 'CL'), {'Fecha_del_sismo': 0, 'Hora_del_sismo': 1, 'Latitud': 2, 'Longitud': 3, 'Profundidad_Km': 4, 'Magnitud': 5, 'Tipo_Magnitud': 6, 'Lugar_del_Epicentro': 7, 'ID_Pais': 8})\n",
      "Row((datetime.date(2009, 9, 5), datetime.time(22, 37, 7), -22.302, -68.896, 0.0, 1.7, 'ML', '79 km al E de María Elena', 'CL'), {'Fecha_del_sismo': 0, 'Hora_del_sismo': 1, 'Latitud': 2, 'Longitud': 3, 'Profundidad_Km': 4, 'Magnitud': 5, 'Tipo_Magnitud': 6, 'Lugar_del_Epicentro': 7, 'ID_Pais': 8})\n",
      "Row((datetime.date(2013, 4, 24), datetime.time(1, 7, 34), -22.789, -69.27, 0.0, 1.7, 'ML', '50 km al SO de Calama', 'CL'), {'Fecha_del_sismo': 0, 'Hora_del_sismo': 1, 'Latitud': 2, 'Longitud': 3, 'Profundidad_Km': 4, 'Magnitud': 5, 'Tipo_Magnitud': 6, 'Lugar_del_Epicentro': 7, 'ID_Pais': 8})\n",
      "Row((datetime.date(2013, 10, 29), datetime.time(0, 34, 34), -22.802, -69.327, 0.0, 1.7, 'ML', '11 km al N de Sierra Gorda.', 'CL'), {'Fecha_del_sismo': 0, 'Hora_del_sismo': 1, 'Latitud': 2, 'Longitud': 3, 'Profundidad_Km': 4, 'Magnitud': 5, 'Tipo_Magnitud': 6, 'Lugar_del_Epicentro': 7, 'ID_Pais': 8})\n",
      "Row((datetime.date(2003, 4, 9), datetime.time(23, 24), -34.316, -70.567, 0.0, 2.3, 'ML', '49 km al NE de San Fernando', 'CL'), {'Fecha_del_sismo': 0, 'Hora_del_sismo': 1, 'Latitud': 2, 'Longitud': 3, 'Profundidad_Km': 4, 'Magnitud': 5, 'Tipo_Magnitud': 6, 'Lugar_del_Epicentro': 7, 'ID_Pais': 8})\n",
      "Row((datetime.date(2004, 6, 28), datetime.time(0, 58, 34), -33.461, -70.169, 0.0, 2.3, 'ML', '26 km al NE de San José de Maipo', 'CL'), {'Fecha_del_sismo': 0, 'Hora_del_sismo': 1, 'Latitud': 2, 'Longitud': 3, 'Profundidad_Km': 4, 'Magnitud': 5, 'Tipo_Magnitud': 6, 'Lugar_del_Epicentro': 7, 'ID_Pais': 8})\n",
      "Row((datetime.date(2005, 4, 21), datetime.time(22, 19, 7), -33.141, -70.313, 0.0, 2.3, 'ML', '23 km al N de Farellones', 'CL'), {'Fecha_del_sismo': 0, 'Hora_del_sismo': 1, 'Latitud': 2, 'Longitud': 3, 'Profundidad_Km': 4, 'Magnitud': 5, 'Tipo_Magnitud': 6, 'Lugar_del_Epicentro': 7, 'ID_Pais': 8})\n",
      "Row((datetime.date(2008, 11, 11), datetime.time(23, 44, 34), -42.792, -72.698, 0.0, 2.3, 'ML', '81 km al NO de Futaleufú', 'CL'), {'Fecha_del_sismo': 0, 'Hora_del_sismo': 1, 'Latitud': 2, 'Longitud': 3, 'Profundidad_Km': 4, 'Magnitud': 5, 'Tipo_Magnitud': 6, 'Lugar_del_Epicentro': 7, 'ID_Pais': 8})\n",
      "Row((datetime.date(2008, 11, 11), datetime.time(21, 53, 34), -42.798, -72.698, 0.0, 2.3, 'ML', '80 km al NO de Futaleufú', 'CL'), {'Fecha_del_sismo': 0, 'Hora_del_sismo': 1, 'Latitud': 2, 'Longitud': 3, 'Profundidad_Km': 4, 'Magnitud': 5, 'Tipo_Magnitud': 6, 'Lugar_del_Epicentro': 7, 'ID_Pais': 8})\n",
      "Row((datetime.date(2009, 6, 26), datetime.time(23, 35, 34), -22.797, -69.23, 0.0, 2.3, 'ML', '48 km al SO de Calama', 'CL'), {'Fecha_del_sismo': 0, 'Hora_del_sismo': 1, 'Latitud': 2, 'Longitud': 3, 'Profundidad_Km': 4, 'Magnitud': 5, 'Tipo_Magnitud': 6, 'Lugar_del_Epicentro': 7, 'ID_Pais': 8})\n",
      "Row((datetime.date(2009, 8, 21), datetime.time(21, 27, 34), -31.831, -71.575, 0.0, 2.3, 'ML', '44 km al SO de Illapel', 'CL'), {'Fecha_del_sismo': 0, 'Hora_del_sismo': 1, 'Latitud': 2, 'Longitud': 3, 'Profundidad_Km': 4, 'Magnitud': 5, 'Tipo_Magnitud': 6, 'Lugar_del_Epicentro': 7, 'ID_Pais': 8})\n",
      "Row((datetime.date(2009, 11, 24), datetime.time(22, 19, 7), -23.414, -70.087, 0.0, 2.3, 'ML', '42 km al NE de Antofagasta', 'CL'), {'Fecha_del_sismo': 0, 'Hora_del_sismo': 1, 'Latitud': 2, 'Longitud': 3, 'Profundidad_Km': 4, 'Magnitud': 5, 'Tipo_Magnitud': 6, 'Lugar_del_Epicentro': 7, 'ID_Pais': 8})\n",
      "Row((datetime.date(2012, 2, 10), datetime.time(0, 24, 34), -22.87, -69.374, 0.0, 2.3, 'ML', '64 km al SO de Calama', 'CL'), {'Fecha_del_sismo': 0, 'Hora_del_sismo': 1, 'Latitud': 2, 'Longitud': 3, 'Profundidad_Km': 4, 'Magnitud': 5, 'Tipo_Magnitud': 6, 'Lugar_del_Epicentro': 7, 'ID_Pais': 8})\n",
      "Row((datetime.date(2014, 2, 25), datetime.time(1, 49, 34), -22.863, -69.399, 0.0, 2.3, 'ML', '9 km al NO de Sierra Gorda.', 'CL'), {'Fecha_del_sismo': 0, 'Hora_del_sismo': 1, 'Latitud': 2, 'Longitud': 3, 'Profundidad_Km': 4, 'Magnitud': 5, 'Tipo_Magnitud': 6, 'Lugar_del_Epicentro': 7, 'ID_Pais': 8})\n",
      "Row((datetime.date(2016, 11, 21), datetime.time(22, 15, 33), -22.855, -69.329, 0.0, 2.3, 'ML', '5 km al N de Sierra Gorda.', 'CL'), {'Fecha_del_sismo': 0, 'Hora_del_sismo': 1, 'Latitud': 2, 'Longitud': 3, 'Profundidad_Km': 4, 'Magnitud': 5, 'Tipo_Magnitud': 6, 'Lugar_del_Epicentro': 7, 'ID_Pais': 8})\n",
      "Row((datetime.date(2003, 9, 30), datetime.time(23, 52, 34), -33.141, -70.245, 0.0, 2.8, 'ML', '41 km al E de Colina', 'CL'), {'Fecha_del_sismo': 0, 'Hora_del_sismo': 1, 'Latitud': 2, 'Longitud': 3, 'Profundidad_Km': 4, 'Magnitud': 5, 'Tipo_Magnitud': 6, 'Lugar_del_Epicentro': 7, 'ID_Pais': 8})\n",
      "Row((datetime.date(2004, 1, 18), datetime.time(0, 27, 7), -31.678, -70.545, 0.0, 2.8, 'ML', '41 km al E de Salamanca', 'CL'), {'Fecha_del_sismo': 0, 'Hora_del_sismo': 1, 'Latitud': 2, 'Longitud': 3, 'Profundidad_Km': 4, 'Magnitud': 5, 'Tipo_Magnitud': 6, 'Lugar_del_Epicentro': 7, 'ID_Pais': 8})\n",
      "Row((datetime.date(2004, 3, 9), datetime.time(0, 36, 27), -34.955, -70.57, 0.0, 2.8, 'ML', '56 km al SE de San Fernando', 'CL'), {'Fecha_del_sismo': 0, 'Hora_del_sismo': 1, 'Latitud': 2, 'Longitud': 3, 'Profundidad_Km': 4, 'Magnitud': 5, 'Tipo_Magnitud': 6, 'Lugar_del_Epicentro': 7, 'ID_Pais': 8})\n",
      "Row((datetime.date(2004, 5, 9), datetime.time(21, 28, 40), -34.955, -70.509, 0.0, 2.8, 'ML', '60 km al SE de San Fernando', 'CL'), {'Fecha_del_sismo': 0, 'Hora_del_sismo': 1, 'Latitud': 2, 'Longitud': 3, 'Profundidad_Km': 4, 'Magnitud': 5, 'Tipo_Magnitud': 6, 'Lugar_del_Epicentro': 7, 'ID_Pais': 8})\n",
      "Row((datetime.date(2004, 7, 9), datetime.time(1, 45, 27), -35.008, -70.577, 0.0, 2.8, 'ML', '60 km al SE de San Fernando', 'CL'), {'Fecha_del_sismo': 0, 'Hora_del_sismo': 1, 'Latitud': 2, 'Longitud': 3, 'Profundidad_Km': 4, 'Magnitud': 5, 'Tipo_Magnitud': 6, 'Lugar_del_Epicentro': 7, 'ID_Pais': 8})\n",
      "Row((datetime.date(2004, 8, 9), datetime.time(21, 44, 34), -34.933, -70.49, 0.0, 2.8, 'ML', '60 km al SE de San Fernando', 'CL'), {'Fecha_del_sismo': 0, 'Hora_del_sismo': 1, 'Latitud': 2, 'Longitud': 3, 'Profundidad_Km': 4, 'Magnitud': 5, 'Tipo_Magnitud': 6, 'Lugar_del_Epicentro': 7, 'ID_Pais': 8})\n",
      "Row((datetime.date(2004, 10, 27), datetime.time(21, 40, 40), -34.913, -70.333, 0.0, 2.8, 'ML', '70 km al SE de San Fernando', 'CL'), {'Fecha_del_sismo': 0, 'Hora_del_sismo': 1, 'Latitud': 2, 'Longitud': 3, 'Profundidad_Km': 4, 'Magnitud': 5, 'Tipo_Magnitud': 6, 'Lugar_del_Epicentro': 7, 'ID_Pais': 8})\n",
      "Row((datetime.date(2004, 11, 24), datetime.time(23, 48, 34), -33.142, -70.228, 0.0, 2.8, 'ML', '42 km al E de Colina', 'CL'), {'Fecha_del_sismo': 0, 'Hora_del_sismo': 1, 'Latitud': 2, 'Longitud': 3, 'Profundidad_Km': 4, 'Magnitud': 5, 'Tipo_Magnitud': 6, 'Lugar_del_Epicentro': 7, 'ID_Pais': 8})\n",
      "Row((datetime.date(2004, 2, 12), datetime.time(21, 56, 34), -34.958, -70.485, 0.0, 2.8, 'ML', '62 km al SE de San Fernando', 'CL'), {'Fecha_del_sismo': 0, 'Hora_del_sismo': 1, 'Latitud': 2, 'Longitud': 3, 'Profundidad_Km': 4, 'Magnitud': 5, 'Tipo_Magnitud': 6, 'Lugar_del_Epicentro': 7, 'ID_Pais': 8})\n",
      "Row((datetime.date(2004, 12, 27), datetime.time(0, 33, 34), -34.944, -70.538, 0.0, 2.8, 'ML', '57 km al SE de San Fernando', 'CL'), {'Fecha_del_sismo': 0, 'Hora_del_sismo': 1, 'Latitud': 2, 'Longitud': 3, 'Profundidad_Km': 4, 'Magnitud': 5, 'Tipo_Magnitud': 6, 'Lugar_del_Epicentro': 7, 'ID_Pais': 8})\n",
      "Row((datetime.date(2005, 3, 5), datetime.time(2, 8, 27), -34.906, -70.254, 0.0, 2.8, 'ML', '18 km al E de Termas del Flaco', 'CL'), {'Fecha_del_sismo': 0, 'Hora_del_sismo': 1, 'Latitud': 2, 'Longitud': 3, 'Profundidad_Km': 4, 'Magnitud': 5, 'Tipo_Magnitud': 6, 'Lugar_del_Epicentro': 7, 'ID_Pais': 8})\n"
     ]
    }
   ],
   "source": [
    "for row in job.result():\n",
    "    print(row)"
   ]
  },
  {
   "cell_type": "code",
   "execution_count": 17,
   "metadata": {},
   "outputs": [],
   "source": [
    "query = 'select * from sismos_db.fechas'"
   ]
  },
  {
   "cell_type": "code",
   "execution_count": 18,
   "metadata": {},
   "outputs": [],
   "source": [
    "job = client.query(query)"
   ]
  },
  {
   "cell_type": "code",
   "execution_count": 19,
   "metadata": {},
   "outputs": [
    {
     "name": "stdout",
     "output_type": "stream",
     "text": [
      "Row((datetime.date(1999, 12, 31), datetime.date(1999, 12, 31), datetime.date(1999, 12, 31)), {'ultima_fecha_japon': 0, 'ultima_fecha_chile': 1, 'ultima_fecha_usa': 2})\n"
     ]
    }
   ],
   "source": [
    "for row in job.result():\n",
    "    print(row)"
   ]
  },
  {
   "cell_type": "code",
   "execution_count": 24,
   "metadata": {},
   "outputs": [
    {
     "name": "stdout",
     "output_type": "stream",
     "text": [
      "1999-12-31\n"
     ]
    }
   ],
   "source": [
    "print(row[0])"
   ]
  }
 ],
 "metadata": {
  "kernelspec": {
   "display_name": "Python 3",
   "language": "python",
   "name": "python3"
  },
  "language_info": {
   "codemirror_mode": {
    "name": "ipython",
    "version": 3
   },
   "file_extension": ".py",
   "mimetype": "text/x-python",
   "name": "python",
   "nbconvert_exporter": "python",
   "pygments_lexer": "ipython3",
   "version": "3.9.6"
  },
  "orig_nbformat": 4
 },
 "nbformat": 4,
 "nbformat_minor": 2
}
